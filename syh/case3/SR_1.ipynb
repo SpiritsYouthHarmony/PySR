{
 "cells": [
  {
   "cell_type": "code",
   "execution_count": 1,
   "metadata": {},
   "outputs": [
    {
     "name": "stdout",
     "output_type": "stream",
     "text": [
      "Detected IPython. Loading juliacall extension. See https://juliapy.github.io/PythonCall.jl/stable/compat/#IPython\n"
     ]
    }
   ],
   "source": [
    "import numpy as np\n",
    "from pysr import PySRRegressor"
   ]
  },
  {
   "cell_type": "code",
   "execution_count": null,
   "metadata": {},
   "outputs": [
    {
     "name": "stdout",
     "output_type": "stream",
     "text": [
      "1000\n",
      "[[1.64644051 5.92880271]\n",
      " [2.1455681  0.10063696]\n",
      " [1.80829013 4.75826196]\n",
      " ...\n",
      " [2.81523607 4.80107807]\n",
      " [0.68593965 6.43864037]\n",
      " [2.03142343 5.01773131]]\n",
      "1000\n"
     ]
    }
   ],
   "source": [
    "\n",
    "# 假设CSV文件有表头，使用 genfromtxt 可以跳过表头\n",
    "data = np.genfromtxt(r'D:\\pythonProject\\PySR\\syh\\case3\\data\\generated_data.csv', delimiter=',', names=True)\n",
    "\n",
    "# 提取输入特征和目标变量\n",
    "X = np.vstack([data['x'], data['y']]).T  \n",
    "y = data['A']  # 数据集目标变量\n",
    "print(len(X))\n",
    "print(X)\n",
    "print(len(y))"
   ]
  },
  {
   "cell_type": "code",
   "execution_count": 50,
   "metadata": {},
   "outputs": [],
   "source": [
    "# 对于 A=sin(x^2)+0.05*exp(y)\n",
    "model = PySRRegressor(\n",
    "    niterations=30,\n",
    "    binary_operators=[\"+\", \"*\"],\n",
    "    unary_operators=[\"cos\", \"exp\", \"sin\"],\n",
    "    constraints={\"sin\":1},\n",
    "    populations=30,\n",
    ")\n"
   ]
  },
  {
   "cell_type": "code",
   "execution_count": 51,
   "metadata": {},
   "outputs": [
    {
     "name": "stderr",
     "output_type": "stream",
     "text": [
      "c:\\Users\\taizun\\miniconda3\\envs\\syh\\lib\\site-packages\\pysr\\sr.py:2582: UserWarning: Note: it looks like you are running in Jupyter. The progress bar will be turned off.\n",
      "  warnings.warn(\n",
      "[ Info: Started!\n"
     ]
    },
    {
     "name": "stdout",
     "output_type": "stream",
     "text": [
      "\n",
      "Expressions evaluated per second: 1.900e+05\n",
      "Head worker occupation: 34.5%\n",
      "Progress: 368 / 900 total iterations (40.889%)\n",
      "====================================================================================================\n",
      "Hall of Fame:\n",
      "---------------------------------------------------------------------------------------------------\n",
      "Complexity  Loss       Score     Equation\n",
      "1           7.389e+04  1.594e+01  y = 1.2581\n",
      "2           5.787e+04  2.445e-01  y = exp(4.8507)\n",
      "3           3.791e+04  4.229e-01  y = x₁ * 25.389\n",
      "4           1.392e+04  1.002e+00  y = exp(x₁) * 0.071681\n",
      "6           3.670e-01  5.269e+00  y = 0.31094 + (exp(x₁) * 0.049993)\n",
      "9           1.363e-03  1.865e+00  y = sin(x₀ * x₀) + (exp(x₁) * 0.049993)\n",
      "11          1.362e-03  5.841e-04  y = (exp(x₁) * (3.2453 * 0.015405)) + sin(x₀ * x₀)\n",
      "12          1.065e-03  2.462e-01  y = ((exp(x₁) + exp(-1.0608)) * 0.049993) + sin(x₀ * x₀)\n",
      "---------------------------------------------------------------------------------------------------\n",
      "====================================================================================================\n",
      "Press 'q' and then <enter> to stop execution early.\n",
      "\n",
      "Expressions evaluated per second: 1.790e+05\n",
      "Head worker occupation: 36.7%\n",
      "Progress: 705 / 900 total iterations (78.333%)\n",
      "====================================================================================================\n",
      "Hall of Fame:\n",
      "---------------------------------------------------------------------------------------------------\n",
      "Complexity  Loss       Score     Equation\n",
      "1           7.389e+04  1.594e+01  y = 1.2581\n",
      "2           5.787e+04  2.445e-01  y = exp(4.8507)\n",
      "3           3.791e+04  4.229e-01  y = x₁ * 25.389\n",
      "4           1.392e+04  1.002e+00  y = exp(x₁) * 0.071681\n",
      "6           3.670e-01  5.269e+00  y = 0.31094 + (exp(x₁) * 0.049993)\n",
      "9           5.839e-09  5.272e+00  y = (exp(x₁) * 0.05) + sin(x₀ * x₀)\n",
      "11          5.834e-09  4.039e-04  y = sin((-3.6047e-07 + x₀) * x₀) + (exp(x₁) * 0.05)\n",
      "---------------------------------------------------------------------------------------------------\n",
      "====================================================================================================\n",
      "Press 'q' and then <enter> to stop execution early.\n"
     ]
    },
    {
     "data": {
      "text/html": [
       "<style>#sk-container-id-9 {color: black;}#sk-container-id-9 pre{padding: 0;}#sk-container-id-9 div.sk-toggleable {background-color: white;}#sk-container-id-9 label.sk-toggleable__label {cursor: pointer;display: block;width: 100%;margin-bottom: 0;padding: 0.3em;box-sizing: border-box;text-align: center;}#sk-container-id-9 label.sk-toggleable__label-arrow:before {content: \"▸\";float: left;margin-right: 0.25em;color: #696969;}#sk-container-id-9 label.sk-toggleable__label-arrow:hover:before {color: black;}#sk-container-id-9 div.sk-estimator:hover label.sk-toggleable__label-arrow:before {color: black;}#sk-container-id-9 div.sk-toggleable__content {max-height: 0;max-width: 0;overflow: hidden;text-align: left;background-color: #f0f8ff;}#sk-container-id-9 div.sk-toggleable__content pre {margin: 0.2em;color: black;border-radius: 0.25em;background-color: #f0f8ff;}#sk-container-id-9 input.sk-toggleable__control:checked~div.sk-toggleable__content {max-height: 200px;max-width: 100%;overflow: auto;}#sk-container-id-9 input.sk-toggleable__control:checked~label.sk-toggleable__label-arrow:before {content: \"▾\";}#sk-container-id-9 div.sk-estimator input.sk-toggleable__control:checked~label.sk-toggleable__label {background-color: #d4ebff;}#sk-container-id-9 div.sk-label input.sk-toggleable__control:checked~label.sk-toggleable__label {background-color: #d4ebff;}#sk-container-id-9 input.sk-hidden--visually {border: 0;clip: rect(1px 1px 1px 1px);clip: rect(1px, 1px, 1px, 1px);height: 1px;margin: -1px;overflow: hidden;padding: 0;position: absolute;width: 1px;}#sk-container-id-9 div.sk-estimator {font-family: monospace;background-color: #f0f8ff;border: 1px dotted black;border-radius: 0.25em;box-sizing: border-box;margin-bottom: 0.5em;}#sk-container-id-9 div.sk-estimator:hover {background-color: #d4ebff;}#sk-container-id-9 div.sk-parallel-item::after {content: \"\";width: 100%;border-bottom: 1px solid gray;flex-grow: 1;}#sk-container-id-9 div.sk-label:hover label.sk-toggleable__label {background-color: #d4ebff;}#sk-container-id-9 div.sk-serial::before {content: \"\";position: absolute;border-left: 1px solid gray;box-sizing: border-box;top: 0;bottom: 0;left: 50%;z-index: 0;}#sk-container-id-9 div.sk-serial {display: flex;flex-direction: column;align-items: center;background-color: white;padding-right: 0.2em;padding-left: 0.2em;position: relative;}#sk-container-id-9 div.sk-item {position: relative;z-index: 1;}#sk-container-id-9 div.sk-parallel {display: flex;align-items: stretch;justify-content: center;background-color: white;position: relative;}#sk-container-id-9 div.sk-item::before, #sk-container-id-9 div.sk-parallel-item::before {content: \"\";position: absolute;border-left: 1px solid gray;box-sizing: border-box;top: 0;bottom: 0;left: 50%;z-index: -1;}#sk-container-id-9 div.sk-parallel-item {display: flex;flex-direction: column;z-index: 1;position: relative;background-color: white;}#sk-container-id-9 div.sk-parallel-item:first-child::after {align-self: flex-end;width: 50%;}#sk-container-id-9 div.sk-parallel-item:last-child::after {align-self: flex-start;width: 50%;}#sk-container-id-9 div.sk-parallel-item:only-child::after {width: 0;}#sk-container-id-9 div.sk-dashed-wrapped {border: 1px dashed gray;margin: 0 0.4em 0.5em 0.4em;box-sizing: border-box;padding-bottom: 0.4em;background-color: white;}#sk-container-id-9 div.sk-label label {font-family: monospace;font-weight: bold;display: inline-block;line-height: 1.2em;}#sk-container-id-9 div.sk-label-container {text-align: center;}#sk-container-id-9 div.sk-container {/* jupyter's `normalize.less` sets `[hidden] { display: none; }` but bootstrap.min.css set `[hidden] { display: none !important; }` so we also need the `!important` here to be able to override the default hidden behavior on the sphinx rendered scikit-learn.org. See: https://github.com/scikit-learn/scikit-learn/issues/21755 */display: inline-block !important;position: relative;}#sk-container-id-9 div.sk-text-repr-fallback {display: none;}</style><div id=\"sk-container-id-9\" class=\"sk-top-container\"><div class=\"sk-text-repr-fallback\"><pre>PySRRegressor.equations_ = [\n",
       "\t   pick     score                                          equation  \\\n",
       "\t0        0.000000                                         1.2581117   \n",
       "\t1        0.244469                                     exp(4.850727)   \n",
       "\t2        0.422878                                    x1 * 25.388796   \n",
       "\t3        1.002121                              exp(x1) * 0.07168097   \n",
       "\t4        5.271596               0.31093848 + (exp(x1) * 0.04999322)   \n",
       "\t5  &gt;&gt;&gt;&gt;  5.985474                   (exp(x1) * 0.05) + sin(x0 * x0)   \n",
       "\t6        0.000404  sin((-3.604714e-7 + x0) * x0) + (exp(x1) * 0.05)   \n",
       "\t\n",
       "\t           loss  complexity  \n",
       "\t0  7.389498e+04           1  \n",
       "\t1  5.786864e+04           2  \n",
       "\t2  3.791314e+04           3  \n",
       "\t3  1.391791e+04           4  \n",
       "\t4  3.670489e-01           6  \n",
       "\t5  5.839148e-09           9  \n",
       "\t6  5.834432e-09          11  \n",
       "]</pre><b>In a Jupyter environment, please rerun this cell to show the HTML representation or trust the notebook. <br />On GitHub, the HTML representation is unable to render, please try loading this page with nbviewer.org.</b></div><div class=\"sk-container\" hidden><div class=\"sk-item\"><div class=\"sk-estimator sk-toggleable\"><input class=\"sk-toggleable__control sk-hidden--visually\" id=\"sk-estimator-id-9\" type=\"checkbox\" checked><label for=\"sk-estimator-id-9\" class=\"sk-toggleable__label sk-toggleable__label-arrow\">PySRRegressor</label><div class=\"sk-toggleable__content\"><pre>PySRRegressor.equations_ = [\n",
       "\t   pick     score                                          equation  \\\n",
       "\t0        0.000000                                         1.2581117   \n",
       "\t1        0.244469                                     exp(4.850727)   \n",
       "\t2        0.422878                                    x1 * 25.388796   \n",
       "\t3        1.002121                              exp(x1) * 0.07168097   \n",
       "\t4        5.271596               0.31093848 + (exp(x1) * 0.04999322)   \n",
       "\t5  &gt;&gt;&gt;&gt;  5.985474                   (exp(x1) * 0.05) + sin(x0 * x0)   \n",
       "\t6        0.000404  sin((-3.604714e-7 + x0) * x0) + (exp(x1) * 0.05)   \n",
       "\t\n",
       "\t           loss  complexity  \n",
       "\t0  7.389498e+04           1  \n",
       "\t1  5.786864e+04           2  \n",
       "\t2  3.791314e+04           3  \n",
       "\t3  1.391791e+04           4  \n",
       "\t4  3.670489e-01           6  \n",
       "\t5  5.839148e-09           9  \n",
       "\t6  5.834432e-09          11  \n",
       "]</pre></div></div></div></div></div>"
      ],
      "text/plain": [
       "PySRRegressor.equations_ = [\n",
       "\t   pick     score                                          equation  \\\n",
       "\t0        0.000000                                         1.2581117   \n",
       "\t1        0.244469                                     exp(4.850727)   \n",
       "\t2        0.422878                                    x1 * 25.388796   \n",
       "\t3        1.002121                              exp(x1) * 0.07168097   \n",
       "\t4        5.271596               0.31093848 + (exp(x1) * 0.04999322)   \n",
       "\t5  >>>>  5.985474                   (exp(x1) * 0.05) + sin(x0 * x0)   \n",
       "\t6        0.000404  sin((-3.604714e-7 + x0) * x0) + (exp(x1) * 0.05)   \n",
       "\t\n",
       "\t           loss  complexity  \n",
       "\t0  7.389498e+04           1  \n",
       "\t1  5.786864e+04           2  \n",
       "\t2  3.791314e+04           3  \n",
       "\t3  1.391791e+04           4  \n",
       "\t4  3.670489e-01           6  \n",
       "\t5  5.839148e-09           9  \n",
       "\t6  5.834432e-09          11  \n",
       "]"
      ]
     },
     "execution_count": 51,
     "metadata": {},
     "output_type": "execute_result"
    }
   ],
   "source": [
    "\n",
    "# 训练模型\n",
    "model.fit(X, y)\n"
   ]
  },
  {
   "cell_type": "code",
   "execution_count": 52,
   "metadata": {},
   "outputs": [
    {
     "name": "stdout",
     "output_type": "stream",
     "text": [
      "SR equation result:\n",
      "exp(x1)*0.05 + sin(x0*x0)\n"
     ]
    }
   ],
   "source": [
    "\n",
    "print(\"SR equation result:\")\n",
    "print(model.sympy())\n"
   ]
  },
  {
   "cell_type": "code",
   "execution_count": 2,
   "metadata": {},
   "outputs": [],
   "source": [
    "# 假设CSV文件有表头，使用 genfromtxt 可以跳过表头\n",
    "data = np.genfromtxt(r'D:\\pythonProject\\PySR\\syh\\case3\\data\\generated_data_1206_1.csv', delimiter=',', names=True)\n",
    "\n",
    "# 提取输入特征和目标变量\n",
    "# 提取输入特征和目标变量\n",
    "X = np.vstack([data['x'], data['y'], data['z'], data['w']]).T  \n",
    "y = data['A']  # 数据集目标变量"
   ]
  },
  {
   "cell_type": "markdown",
   "metadata": {},
   "source": [
    "$ A=\\sin(x^2)+0.01e^{(y+z)}+1/w $"
   ]
  },
  {
   "cell_type": "code",
   "execution_count": null,
   "metadata": {},
   "outputs": [],
   "source": [
    "model = PySRRegressor(\n",
    "    niterations=50,\n",
    "    populations=30,\n",
    "    binary_operators=[\"+\", \"*\"],\n",
    "    unary_operators=[\"cos\", \"exp\", \"sin\", \"inv(x) = 1/x\"],\n",
    "    extra_sympy_mappings={\"inv\": lambda x: 1/x},\n",
    "    constraints={\"sin\":1,\"exp\":1,\"inv(x) = 1/x\":1},\n",
    ")"
   ]
  },
  {
   "cell_type": "code",
   "execution_count": 4,
   "metadata": {},
   "outputs": [
    {
     "name": "stderr",
     "output_type": "stream",
     "text": [
      "c:\\Users\\taizun\\miniconda3\\envs\\syh\\lib\\site-packages\\pysr\\sr.py:2582: UserWarning: Note: it looks like you are running in Jupyter. The progress bar will be turned off.\n",
      "  warnings.warn(\n"
     ]
    },
    {
     "name": "stdout",
     "output_type": "stream",
     "text": [
      "Compiling Julia backend...\n"
     ]
    },
    {
     "name": "stderr",
     "output_type": "stream",
     "text": [
      "[ Info: Started!\n"
     ]
    },
    {
     "name": "stdout",
     "output_type": "stream",
     "text": [
      "\n",
      "Expressions evaluated per second: 1.500e+05\n",
      "Head worker occupation: 23.7%\n",
      "Progress: 286 / 1500 total iterations (19.067%)\n",
      "====================================================================================================\n",
      "Hall of Fame:\n",
      "---------------------------------------------------------------------------------------------------\n",
      "Complexity  Loss       Score     Equation\n",
      "2           7.727e+10  7.971e+00  y = exp(10.915)\n",
      "3           7.297e+10  5.719e-02  y = 14679 * x₂\n",
      "4           6.423e+10  1.276e-01  y = exp(x₂) * 24.518\n",
      "6           2.518e+10  4.682e-01  y = (exp(x₂) * x₁) * x₁\n",
      "8           4.058e+01  7.964e+00  y = (exp(x₂ + x₁) * 0.0099998) + x₁\n",
      "9           3.927e+01  3.284e-02  y = (exp(x₂) * (exp(x₁) * 0.0099998)) + x₂\n",
      "10          2.843e+01  3.231e-01  y = (exp(x₂) * (exp(x₁) * 0.0099998)) + cos(x₂)\n",
      "12          2.763e+01  1.419e-02  y = (exp(x₂) * (exp(x₁) * 0.0099998)) + (cos(x₂) + x₀)\n",
      "---------------------------------------------------------------------------------------------------\n",
      "====================================================================================================\n",
      "Press 'q' and then <enter> to stop execution early.\n",
      "\n",
      "Expressions evaluated per second: 1.590e+05\n",
      "Head worker occupation: 22.2%\n",
      "Progress: 614 / 1500 total iterations (40.933%)\n",
      "====================================================================================================\n",
      "Hall of Fame:\n",
      "---------------------------------------------------------------------------------------------------\n",
      "Complexity  Loss       Score     Equation\n",
      "1           8.025e+10  1.594e+01  y = x₃\n",
      "2           7.727e+10  3.782e-02  y = exp(10.915)\n",
      "3           7.297e+10  5.719e-02  y = 14679 * x₂\n",
      "4           6.423e+10  1.276e-01  y = exp(x₂) * 24.518\n",
      "6           2.518e+10  4.682e-01  y = (exp(x₂) * x₁) * x₁\n",
      "8           4.058e+01  7.964e+00  y = (exp(x₂ + x₁) * 0.0099998) + x₁\n",
      "9           3.927e+01  3.284e-02  y = (exp(x₂) * (exp(x₁) * 0.0099998)) + x₂\n",
      "10          2.843e+01  3.231e-01  y = (exp(x₂) * (exp(x₁) * 0.0099998)) + cos(x₂)\n",
      "12          2.763e+01  1.419e-02  y = (exp(x₂) * (exp(x₁) * 0.0099998)) + (cos(x₂) + x₀)\n",
      "---------------------------------------------------------------------------------------------------\n",
      "====================================================================================================\n",
      "Press 'q' and then <enter> to stop execution early.\n",
      "\n",
      "Expressions evaluated per second: 1.650e+05\n",
      "Head worker occupation: 24.7%\n",
      "Progress: 924 / 1500 total iterations (61.600%)\n",
      "====================================================================================================\n",
      "Hall of Fame:\n",
      "---------------------------------------------------------------------------------------------------\n",
      "Complexity  Loss       Score     Equation\n",
      "1           8.025e+10  1.594e+01  y = x₃\n",
      "2           7.727e+10  3.782e-02  y = exp(10.915)\n",
      "3           7.297e+10  5.719e-02  y = 14679 * x₂\n",
      "4           6.423e+10  1.276e-01  y = exp(x₂) * 24.518\n",
      "5           6.301e+10  1.916e-02  y = (x₁ * 3828.9) * x₂\n",
      "6           2.518e+10  9.172e-01  y = (exp(x₂) * x₁) * x₁\n",
      "7           2.649e+01  1.593e+01  y = (0.0099998 * exp(x₁)) * exp(x₂)\n",
      "---------------------------------------------------------------------------------------------------\n",
      "====================================================================================================\n",
      "Press 'q' and then <enter> to stop execution early.\n",
      "\n",
      "Expressions evaluated per second: 1.660e+05\n",
      "Head worker occupation: 23.9%\n",
      "Progress: 1231 / 1500 total iterations (82.067%)\n",
      "====================================================================================================\n",
      "Hall of Fame:\n",
      "---------------------------------------------------------------------------------------------------\n",
      "Complexity  Loss       Score     Equation\n",
      "1           7.727e+10  1.594e+01  y = 54630\n",
      "3           7.297e+10  2.859e-02  y = 14679 * x₂\n",
      "4           6.423e+10  1.276e-01  y = exp(x₂) * 24.518\n",
      "5           6.301e+10  1.916e-02  y = (x₁ * 3828.9) * x₂\n",
      "6           2.518e+10  9.172e-01  y = (exp(x₂) * x₁) * x₁\n",
      "7           2.649e+01  1.593e+01  y = (0.0099998 * exp(x₁)) * exp(x₂)\n",
      "---------------------------------------------------------------------------------------------------\n",
      "====================================================================================================\n",
      "Press 'q' and then <enter> to stop execution early.\n"
     ]
    },
    {
     "data": {
      "text/html": [
       "<style>#sk-container-id-1 {color: black;}#sk-container-id-1 pre{padding: 0;}#sk-container-id-1 div.sk-toggleable {background-color: white;}#sk-container-id-1 label.sk-toggleable__label {cursor: pointer;display: block;width: 100%;margin-bottom: 0;padding: 0.3em;box-sizing: border-box;text-align: center;}#sk-container-id-1 label.sk-toggleable__label-arrow:before {content: \"▸\";float: left;margin-right: 0.25em;color: #696969;}#sk-container-id-1 label.sk-toggleable__label-arrow:hover:before {color: black;}#sk-container-id-1 div.sk-estimator:hover label.sk-toggleable__label-arrow:before {color: black;}#sk-container-id-1 div.sk-toggleable__content {max-height: 0;max-width: 0;overflow: hidden;text-align: left;background-color: #f0f8ff;}#sk-container-id-1 div.sk-toggleable__content pre {margin: 0.2em;color: black;border-radius: 0.25em;background-color: #f0f8ff;}#sk-container-id-1 input.sk-toggleable__control:checked~div.sk-toggleable__content {max-height: 200px;max-width: 100%;overflow: auto;}#sk-container-id-1 input.sk-toggleable__control:checked~label.sk-toggleable__label-arrow:before {content: \"▾\";}#sk-container-id-1 div.sk-estimator input.sk-toggleable__control:checked~label.sk-toggleable__label {background-color: #d4ebff;}#sk-container-id-1 div.sk-label input.sk-toggleable__control:checked~label.sk-toggleable__label {background-color: #d4ebff;}#sk-container-id-1 input.sk-hidden--visually {border: 0;clip: rect(1px 1px 1px 1px);clip: rect(1px, 1px, 1px, 1px);height: 1px;margin: -1px;overflow: hidden;padding: 0;position: absolute;width: 1px;}#sk-container-id-1 div.sk-estimator {font-family: monospace;background-color: #f0f8ff;border: 1px dotted black;border-radius: 0.25em;box-sizing: border-box;margin-bottom: 0.5em;}#sk-container-id-1 div.sk-estimator:hover {background-color: #d4ebff;}#sk-container-id-1 div.sk-parallel-item::after {content: \"\";width: 100%;border-bottom: 1px solid gray;flex-grow: 1;}#sk-container-id-1 div.sk-label:hover label.sk-toggleable__label {background-color: #d4ebff;}#sk-container-id-1 div.sk-serial::before {content: \"\";position: absolute;border-left: 1px solid gray;box-sizing: border-box;top: 0;bottom: 0;left: 50%;z-index: 0;}#sk-container-id-1 div.sk-serial {display: flex;flex-direction: column;align-items: center;background-color: white;padding-right: 0.2em;padding-left: 0.2em;position: relative;}#sk-container-id-1 div.sk-item {position: relative;z-index: 1;}#sk-container-id-1 div.sk-parallel {display: flex;align-items: stretch;justify-content: center;background-color: white;position: relative;}#sk-container-id-1 div.sk-item::before, #sk-container-id-1 div.sk-parallel-item::before {content: \"\";position: absolute;border-left: 1px solid gray;box-sizing: border-box;top: 0;bottom: 0;left: 50%;z-index: -1;}#sk-container-id-1 div.sk-parallel-item {display: flex;flex-direction: column;z-index: 1;position: relative;background-color: white;}#sk-container-id-1 div.sk-parallel-item:first-child::after {align-self: flex-end;width: 50%;}#sk-container-id-1 div.sk-parallel-item:last-child::after {align-self: flex-start;width: 50%;}#sk-container-id-1 div.sk-parallel-item:only-child::after {width: 0;}#sk-container-id-1 div.sk-dashed-wrapped {border: 1px dashed gray;margin: 0 0.4em 0.5em 0.4em;box-sizing: border-box;padding-bottom: 0.4em;background-color: white;}#sk-container-id-1 div.sk-label label {font-family: monospace;font-weight: bold;display: inline-block;line-height: 1.2em;}#sk-container-id-1 div.sk-label-container {text-align: center;}#sk-container-id-1 div.sk-container {/* jupyter's `normalize.less` sets `[hidden] { display: none; }` but bootstrap.min.css set `[hidden] { display: none !important; }` so we also need the `!important` here to be able to override the default hidden behavior on the sphinx rendered scikit-learn.org. See: https://github.com/scikit-learn/scikit-learn/issues/21755 */display: inline-block !important;position: relative;}#sk-container-id-1 div.sk-text-repr-fallback {display: none;}</style><div id=\"sk-container-id-1\" class=\"sk-top-container\"><div class=\"sk-text-repr-fallback\"><pre>PySRRegressor.equations_ = [\n",
       "\t   pick      score                           equation          loss  \\\n",
       "\t0         0.000000                           54635.88  7.726688e+10   \n",
       "\t1         0.028592                     14679.142 * x2  7.297236e+10   \n",
       "\t2         0.127602                exp(x2) * 24.517597  6.423052e+10   \n",
       "\t3         0.019156               (x1 * 3828.926) * x2  6.301181e+10   \n",
       "\t4         0.917167                (exp(x2) * x1) * x1  2.518264e+10   \n",
       "\t5  &gt;&gt;&gt;&gt;  20.672742  (0.009999822 * exp(x1)) * exp(x2)  2.648766e+01   \n",
       "\t\n",
       "\t   complexity  \n",
       "\t0           1  \n",
       "\t1           3  \n",
       "\t2           4  \n",
       "\t3           5  \n",
       "\t4           6  \n",
       "\t5           7  \n",
       "]</pre><b>In a Jupyter environment, please rerun this cell to show the HTML representation or trust the notebook. <br />On GitHub, the HTML representation is unable to render, please try loading this page with nbviewer.org.</b></div><div class=\"sk-container\" hidden><div class=\"sk-item\"><div class=\"sk-estimator sk-toggleable\"><input class=\"sk-toggleable__control sk-hidden--visually\" id=\"sk-estimator-id-1\" type=\"checkbox\" checked><label for=\"sk-estimator-id-1\" class=\"sk-toggleable__label sk-toggleable__label-arrow\">PySRRegressor</label><div class=\"sk-toggleable__content\"><pre>PySRRegressor.equations_ = [\n",
       "\t   pick      score                           equation          loss  \\\n",
       "\t0         0.000000                           54635.88  7.726688e+10   \n",
       "\t1         0.028592                     14679.142 * x2  7.297236e+10   \n",
       "\t2         0.127602                exp(x2) * 24.517597  6.423052e+10   \n",
       "\t3         0.019156               (x1 * 3828.926) * x2  6.301181e+10   \n",
       "\t4         0.917167                (exp(x2) * x1) * x1  2.518264e+10   \n",
       "\t5  &gt;&gt;&gt;&gt;  20.672742  (0.009999822 * exp(x1)) * exp(x2)  2.648766e+01   \n",
       "\t\n",
       "\t   complexity  \n",
       "\t0           1  \n",
       "\t1           3  \n",
       "\t2           4  \n",
       "\t3           5  \n",
       "\t4           6  \n",
       "\t5           7  \n",
       "]</pre></div></div></div></div></div>"
      ],
      "text/plain": [
       "PySRRegressor.equations_ = [\n",
       "\t   pick      score                           equation          loss  \\\n",
       "\t0         0.000000                           54635.88  7.726688e+10   \n",
       "\t1         0.028592                     14679.142 * x2  7.297236e+10   \n",
       "\t2         0.127602                exp(x2) * 24.517597  6.423052e+10   \n",
       "\t3         0.019156               (x1 * 3828.926) * x2  6.301181e+10   \n",
       "\t4         0.917167                (exp(x2) * x1) * x1  2.518264e+10   \n",
       "\t5  >>>>  20.672742  (0.009999822 * exp(x1)) * exp(x2)  2.648766e+01   \n",
       "\t\n",
       "\t   complexity  \n",
       "\t0           1  \n",
       "\t1           3  \n",
       "\t2           4  \n",
       "\t3           5  \n",
       "\t4           6  \n",
       "\t5           7  \n",
       "]"
      ]
     },
     "execution_count": 4,
     "metadata": {},
     "output_type": "execute_result"
    }
   ],
   "source": [
    "# 训练模型\n",
    "model.fit(X, y)"
   ]
  },
  {
   "cell_type": "code",
   "execution_count": 5,
   "metadata": {},
   "outputs": [
    {
     "name": "stdout",
     "output_type": "stream",
     "text": [
      "SR equation result:\n",
      "0.009999822*exp(x1)*exp(x2)\n"
     ]
    }
   ],
   "source": [
    "print(\"SR equation result:\")\n",
    "print(model.sympy())"
   ]
  }
 ],
 "metadata": {
  "kernelspec": {
   "display_name": "syh",
   "language": "python",
   "name": "python3"
  },
  "language_info": {
   "codemirror_mode": {
    "name": "ipython",
    "version": 3
   },
   "file_extension": ".py",
   "mimetype": "text/x-python",
   "name": "python",
   "nbconvert_exporter": "python",
   "pygments_lexer": "ipython3",
   "version": "3.8.20"
  }
 },
 "nbformat": 4,
 "nbformat_minor": 2
}
