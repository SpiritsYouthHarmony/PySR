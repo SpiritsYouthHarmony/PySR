{
 "cells": [
  {
   "cell_type": "code",
   "execution_count": 1,
   "metadata": {},
   "outputs": [],
   "source": [
    "import numpy as np\n",
    "import pandas as pd"
   ]
  },
  {
   "cell_type": "markdown",
   "metadata": {},
   "source": [
    "下一个代码块对应生成的公式为$ A=\\sin(x^2)+0.01e^{(y+z)}+1/w $，文件名为generated_data_1206_1.csv"
   ]
  },
  {
   "cell_type": "code",
   "execution_count": 4,
   "metadata": {},
   "outputs": [],
   "source": [
    "# 设置随机种子以保证结果可复现\n",
    "np.random.seed(0)\n",
    "\n",
    "# 生成数据点的数量\n",
    "num_samples = 1000\n",
    "\n",
    "# 生成随机的 x ,y, z值\n",
    "x_values = np.random.uniform(0, 3, num_samples)     # x 的范围从 0 到 3\n",
    "y_values = np.random.uniform(0, 10, num_samples)    # y 的范围从 0 到 10\n",
    "z_values = np.random.uniform(0, 10, num_samples)    # z 的范围从 0 到 10\n",
    "w_values = np.random.uniform(1, 100, num_samples)   # w 的范围从 1 到 100\n",
    "\n",
    "# 计算 A 根据给定公式\n",
    "A_values = np.sin(x_values**2) + 0.01*np.exp(y_values+z_values) + 1/w_values\n",
    "\n",
    "# 创建 DataFrame\n",
    "df = pd.DataFrame({\n",
    "    'x': x_values,\n",
    "    'y': y_values,\n",
    "    'z': z_values,\n",
    "    'w': w_values,\n",
    "    'A': A_values\n",
    "})\n",
    "\n",
    "# 移除包含 NaN 的行（即那些会导致除以零的异常情况）\n",
    "df_cleaned = df.dropna()\n",
    "\n",
    "# 保存到 CSV 文件\n",
    "df_cleaned.to_csv(r'D:\\pythonProject\\PySR\\syh\\case3\\data\\generated_data_1206_1.csv', index=False)\n"
   ]
  }
 ],
 "metadata": {
  "kernelspec": {
   "display_name": "syh",
   "language": "python",
   "name": "python3"
  },
  "language_info": {
   "codemirror_mode": {
    "name": "ipython",
    "version": 3
   },
   "file_extension": ".py",
   "mimetype": "text/x-python",
   "name": "python",
   "nbconvert_exporter": "python",
   "pygments_lexer": "ipython3",
   "version": "3.8.20"
  }
 },
 "nbformat": 4,
 "nbformat_minor": 2
}
