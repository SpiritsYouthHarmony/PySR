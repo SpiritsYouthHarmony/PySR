{
 "cells": [
  {
   "cell_type": "markdown",
   "metadata": {},
   "source": [
    "拟合公式 $$ 2.5382 \\cos (x_3)+x_0^2 -0.5 $$"
   ]
  },
  {
   "cell_type": "code",
   "execution_count": 3,
   "metadata": {},
   "outputs": [],
   "source": [
    "import numpy as np\n",
    "\n",
    "X = 2 * np.random.randn(100, 5) # randn函数返回一个或一组样本，具有标准正态分布\n",
    "y = 2.5382 * np.cos(X[:, 3]) + X[:, 0] ** 2 - 0.5"
   ]
  },
  {
   "cell_type": "markdown",
   "metadata": {},
   "source": [
    "利用pysr进行模型训练"
   ]
  },
  {
   "cell_type": "code",
   "execution_count": 4,
   "metadata": {},
   "outputs": [
    {
     "name": "stdout",
     "output_type": "stream",
     "text": [
      "Detected IPython. Loading juliacall extension. See https://juliapy.github.io/PythonCall.jl/stable/compat/#IPython\n"
     ]
    }
   ],
   "source": [
    "from pysr import PySRRegressor\n",
    "\n",
    "model = PySRRegressor(\n",
    "    maxsize=20,\n",
    "    niterations=40,  # < Increase me for better results\n",
    "    binary_operators=[\"+\", \"*\"],\n",
    "    unary_operators=[\n",
    "        \"cos\",\n",
    "        \"exp\",\n",
    "        \"sin\",\n",
    "        \"inv(x) = 1/x\",\n",
    "        # ^ Custom operator (julia syntax)\n",
    "    ],\n",
    "    extra_sympy_mappings={\"inv\": lambda x: 1 / x},\n",
    "    # ^ Define operator for SymPy as well\n",
    "    elementwise_loss=\"loss(prediction, target) = (prediction - target)^2\",\n",
    "    # ^ Custom loss function (julia syntax)\n",
    ")"
   ]
  },
  {
   "cell_type": "markdown",
   "metadata": {},
   "source": [
    "这段代码是使用 PySR（Python Symbolic Regression）库创建一个符号回归模型的示例。符号回归是一种机器学习技术，旨在发现数据中的数学表达式或公式，它通常用于科学发现、工程优化等领域。PySR 是基于 Julia 编写的高效符号回归引擎 `SymbolicRegression.jl` 的 Python 接口。\n",
    "\n",
    "让我们逐行解析这段代码：\n",
    "\n",
    "```python\n",
    "from pysr import PySRRegressor\n",
    "```\n",
    "这行代码导入了 PySR 库中的 `PySRRegressor` 类，这是用来进行符号回归的核心类。\n",
    "\n",
    "```python\n",
    "model = PySRRegressor(\n",
    "    maxsize=20,\n",
    "    niterations=40,  # < Increase me for better results\n",
    "    binary_operators=[\"+\", \"*\"],\n",
    "    unary_operators=[\n",
    "        \"cos\",\n",
    "        \"exp\",\n",
    "        \"sin\",\n",
    "        \"inv(x) = 1/x\",  # ^ Custom operator (julia syntax)\n",
    "    ],\n",
    "    extra_sympy_mappings={\"inv\": lambda x: 1 / x},\n",
    "    # ^ Define operator for SymPy as well\n",
    "    elementwise_loss=\"loss(prediction, target) = (prediction - target)^2\",\n",
    "    # ^ Custom loss function (julia syntax)\n",
    ")\n",
    "```\n",
    "\n",
    "- `maxsize=20`: 设置生成的表达式的最大大小（复杂度）。这里的大小指的是表达式树中的节点数量。\n",
    "  \n",
    "- `niterations=40`: 指定迭代次数。更多的迭代可能会导致更精确的结果，因为算法有更多的时间去探索可能的表达式空间。\n",
    "\n",
    "- `binary_operators=[\"+\", \"*\"]`: 定义可以使用的二元操作符。在这个例子中，只允许加法和乘法。\n",
    "\n",
    "- `unary_operators=[...]`: 列出可以使用的一元操作符。这里包括了标准的数学函数如余弦 (`cos`)、指数 (`exp`) 和正弦 (`sin`) 函数，以及自定义的倒数运算符 `inv(x) = 1/x`，该运算符使用的是Julia语法。\n",
    "\n",
    "- `extra_sympy_mappings={\"inv\": lambda x: 1 / x}`: 为自定义运算符提供一个映射到 Python 的 `SymPy` 库的方式，以便可以在 Python 中正确地解释和处理这些运算符。在这里，`inv` 运算符被映射到一个简单的匿名函数，该函数计算输入的倒数。\n",
    "\n",
    "- `elementwise_loss=\"loss(prediction, target) = (prediction - target)^2\"`: 定义了一个元素级别的损失函数，它衡量预测值与目标值之间的差异。这个例子中使用的是均方误差（MSE），也是用Julia语法编写的。\n",
    "\n",
    "总的来说，这段代码创建了一个配置好的 `PySRRegressor` 实例，准备用给定的参数来拟合数据，并尝试找到最佳的数学表达式以描述输入数据和输出数据之间的关系。你可以通过调用 `model.fit(X, y)` 来训练这个模型，其中 `X` 是特征矩阵，`y` 是目标向量。"
   ]
  },
  {
   "cell_type": "code",
   "execution_count": 5,
   "metadata": {},
   "outputs": [
    {
     "name": "stderr",
     "output_type": "stream",
     "text": [
      "c:\\Users\\taizun\\miniconda3\\envs\\syh\\lib\\site-packages\\pysr\\sr.py:2582: UserWarning: Note: it looks like you are running in Jupyter. The progress bar will be turned off.\n",
      "  warnings.warn(\n"
     ]
    },
    {
     "name": "stdout",
     "output_type": "stream",
     "text": [
      "Compiling Julia backend...\n"
     ]
    },
    {
     "name": "stderr",
     "output_type": "stream",
     "text": [
      "[ Info: Started!\n"
     ]
    },
    {
     "data": {
      "text/html": [
       "<style>#sk-container-id-1 {color: black;}#sk-container-id-1 pre{padding: 0;}#sk-container-id-1 div.sk-toggleable {background-color: white;}#sk-container-id-1 label.sk-toggleable__label {cursor: pointer;display: block;width: 100%;margin-bottom: 0;padding: 0.3em;box-sizing: border-box;text-align: center;}#sk-container-id-1 label.sk-toggleable__label-arrow:before {content: \"▸\";float: left;margin-right: 0.25em;color: #696969;}#sk-container-id-1 label.sk-toggleable__label-arrow:hover:before {color: black;}#sk-container-id-1 div.sk-estimator:hover label.sk-toggleable__label-arrow:before {color: black;}#sk-container-id-1 div.sk-toggleable__content {max-height: 0;max-width: 0;overflow: hidden;text-align: left;background-color: #f0f8ff;}#sk-container-id-1 div.sk-toggleable__content pre {margin: 0.2em;color: black;border-radius: 0.25em;background-color: #f0f8ff;}#sk-container-id-1 input.sk-toggleable__control:checked~div.sk-toggleable__content {max-height: 200px;max-width: 100%;overflow: auto;}#sk-container-id-1 input.sk-toggleable__control:checked~label.sk-toggleable__label-arrow:before {content: \"▾\";}#sk-container-id-1 div.sk-estimator input.sk-toggleable__control:checked~label.sk-toggleable__label {background-color: #d4ebff;}#sk-container-id-1 div.sk-label input.sk-toggleable__control:checked~label.sk-toggleable__label {background-color: #d4ebff;}#sk-container-id-1 input.sk-hidden--visually {border: 0;clip: rect(1px 1px 1px 1px);clip: rect(1px, 1px, 1px, 1px);height: 1px;margin: -1px;overflow: hidden;padding: 0;position: absolute;width: 1px;}#sk-container-id-1 div.sk-estimator {font-family: monospace;background-color: #f0f8ff;border: 1px dotted black;border-radius: 0.25em;box-sizing: border-box;margin-bottom: 0.5em;}#sk-container-id-1 div.sk-estimator:hover {background-color: #d4ebff;}#sk-container-id-1 div.sk-parallel-item::after {content: \"\";width: 100%;border-bottom: 1px solid gray;flex-grow: 1;}#sk-container-id-1 div.sk-label:hover label.sk-toggleable__label {background-color: #d4ebff;}#sk-container-id-1 div.sk-serial::before {content: \"\";position: absolute;border-left: 1px solid gray;box-sizing: border-box;top: 0;bottom: 0;left: 50%;z-index: 0;}#sk-container-id-1 div.sk-serial {display: flex;flex-direction: column;align-items: center;background-color: white;padding-right: 0.2em;padding-left: 0.2em;position: relative;}#sk-container-id-1 div.sk-item {position: relative;z-index: 1;}#sk-container-id-1 div.sk-parallel {display: flex;align-items: stretch;justify-content: center;background-color: white;position: relative;}#sk-container-id-1 div.sk-item::before, #sk-container-id-1 div.sk-parallel-item::before {content: \"\";position: absolute;border-left: 1px solid gray;box-sizing: border-box;top: 0;bottom: 0;left: 50%;z-index: -1;}#sk-container-id-1 div.sk-parallel-item {display: flex;flex-direction: column;z-index: 1;position: relative;background-color: white;}#sk-container-id-1 div.sk-parallel-item:first-child::after {align-self: flex-end;width: 50%;}#sk-container-id-1 div.sk-parallel-item:last-child::after {align-self: flex-start;width: 50%;}#sk-container-id-1 div.sk-parallel-item:only-child::after {width: 0;}#sk-container-id-1 div.sk-dashed-wrapped {border: 1px dashed gray;margin: 0 0.4em 0.5em 0.4em;box-sizing: border-box;padding-bottom: 0.4em;background-color: white;}#sk-container-id-1 div.sk-label label {font-family: monospace;font-weight: bold;display: inline-block;line-height: 1.2em;}#sk-container-id-1 div.sk-label-container {text-align: center;}#sk-container-id-1 div.sk-container {/* jupyter's `normalize.less` sets `[hidden] { display: none; }` but bootstrap.min.css set `[hidden] { display: none !important; }` so we also need the `!important` here to be able to override the default hidden behavior on the sphinx rendered scikit-learn.org. See: https://github.com/scikit-learn/scikit-learn/issues/21755 */display: inline-block !important;position: relative;}#sk-container-id-1 div.sk-text-repr-fallback {display: none;}</style><div id=\"sk-container-id-1\" class=\"sk-top-container\"><div class=\"sk-text-repr-fallback\"><pre>PySRRegressor.equations_ = [\n",
       "\t   pick      score                                           equation  \\\n",
       "\t0         0.000000                                     exp(1.5678316)   \n",
       "\t1         2.805606                                            x0 * x0   \n",
       "\t2         0.006312                            -0.18381631 + (x0 * x0)   \n",
       "\t3         0.908738                                cos(x3) + (x0 * x0)   \n",
       "\t4         0.746025                   (x0 * x0) + (cos(x3) * 2.392678)   \n",
       "\t5         0.037629             (x0 * x0) + (sin(cos(x3)) * 2.6985104)   \n",
       "\t6  &gt;&gt;&gt;&gt;  26.811930            (x0 * x0) + ((cos(x3) * 2.5382) + -0.5)   \n",
       "\t7         0.028370  ((x0 * x0) + ((-0.040418338 + cos(x3)) * 1.873...   \n",
       "\t\n",
       "\t           loss  complexity  \n",
       "\t0  4.451334e+01           2  \n",
       "\t1  2.691725e+00           3  \n",
       "\t2  2.657958e+00           5  \n",
       "\t3  1.071243e+00           6  \n",
       "\t4  2.409346e-01           8  \n",
       "\t5  2.320370e-01           9  \n",
       "\t6  5.263612e-13          10  \n",
       "\t7  4.315570e-13          17  \n",
       "]</pre><b>In a Jupyter environment, please rerun this cell to show the HTML representation or trust the notebook. <br />On GitHub, the HTML representation is unable to render, please try loading this page with nbviewer.org.</b></div><div class=\"sk-container\" hidden><div class=\"sk-item\"><div class=\"sk-estimator sk-toggleable\"><input class=\"sk-toggleable__control sk-hidden--visually\" id=\"sk-estimator-id-1\" type=\"checkbox\" checked><label for=\"sk-estimator-id-1\" class=\"sk-toggleable__label sk-toggleable__label-arrow\">PySRRegressor</label><div class=\"sk-toggleable__content\"><pre>PySRRegressor.equations_ = [\n",
       "\t   pick      score                                           equation  \\\n",
       "\t0         0.000000                                     exp(1.5678316)   \n",
       "\t1         2.805606                                            x0 * x0   \n",
       "\t2         0.006312                            -0.18381631 + (x0 * x0)   \n",
       "\t3         0.908738                                cos(x3) + (x0 * x0)   \n",
       "\t4         0.746025                   (x0 * x0) + (cos(x3) * 2.392678)   \n",
       "\t5         0.037629             (x0 * x0) + (sin(cos(x3)) * 2.6985104)   \n",
       "\t6  &gt;&gt;&gt;&gt;  26.811930            (x0 * x0) + ((cos(x3) * 2.5382) + -0.5)   \n",
       "\t7         0.028370  ((x0 * x0) + ((-0.040418338 + cos(x3)) * 1.873...   \n",
       "\t\n",
       "\t           loss  complexity  \n",
       "\t0  4.451334e+01           2  \n",
       "\t1  2.691725e+00           3  \n",
       "\t2  2.657958e+00           5  \n",
       "\t3  1.071243e+00           6  \n",
       "\t4  2.409346e-01           8  \n",
       "\t5  2.320370e-01           9  \n",
       "\t6  5.263612e-13          10  \n",
       "\t7  4.315570e-13          17  \n",
       "]</pre></div></div></div></div></div>"
      ],
      "text/plain": [
       "PySRRegressor.equations_ = [\n",
       "\t   pick      score                                           equation  \\\n",
       "\t0         0.000000                                     exp(1.5678316)   \n",
       "\t1         2.805606                                            x0 * x0   \n",
       "\t2         0.006312                            -0.18381631 + (x0 * x0)   \n",
       "\t3         0.908738                                cos(x3) + (x0 * x0)   \n",
       "\t4         0.746025                   (x0 * x0) + (cos(x3) * 2.392678)   \n",
       "\t5         0.037629             (x0 * x0) + (sin(cos(x3)) * 2.6985104)   \n",
       "\t6  >>>>  26.811930            (x0 * x0) + ((cos(x3) * 2.5382) + -0.5)   \n",
       "\t7         0.028370  ((x0 * x0) + ((-0.040418338 + cos(x3)) * 1.873...   \n",
       "\t\n",
       "\t           loss  complexity  \n",
       "\t0  4.451334e+01           2  \n",
       "\t1  2.691725e+00           3  \n",
       "\t2  2.657958e+00           5  \n",
       "\t3  1.071243e+00           6  \n",
       "\t4  2.409346e-01           8  \n",
       "\t5  2.320370e-01           9  \n",
       "\t6  5.263612e-13          10  \n",
       "\t7  4.315570e-13          17  \n",
       "]"
      ]
     },
     "execution_count": 5,
     "metadata": {},
     "output_type": "execute_result"
    }
   ],
   "source": [
    "model.fit(X, y)"
   ]
  },
  {
   "cell_type": "code",
   "execution_count": 7,
   "metadata": {},
   "outputs": [
    {
     "name": "stdout",
     "output_type": "stream",
     "text": [
      "PySRRegressor.equations_ = [\n",
      "\t   pick      score                                           equation  \\\n",
      "\t0         0.000000                                     exp(1.5678316)   \n",
      "\t1         2.805606                                            x0 * x0   \n",
      "\t2         0.006312                            -0.18381631 + (x0 * x0)   \n",
      "\t3         0.908738                                cos(x3) + (x0 * x0)   \n",
      "\t4         0.746025                   (x0 * x0) + (cos(x3) * 2.392678)   \n",
      "\t5         0.037629             (x0 * x0) + (sin(cos(x3)) * 2.6985104)   \n",
      "\t6  >>>>  26.811930            (x0 * x0) + ((cos(x3) * 2.5382) + -0.5)   \n",
      "\t7         0.028370  ((x0 * x0) + ((-0.040418338 + cos(x3)) * 1.873...   \n",
      "\t\n",
      "\t           loss  complexity  \n",
      "\t0  4.451334e+01           2  \n",
      "\t1  2.691725e+00           3  \n",
      "\t2  2.657958e+00           5  \n",
      "\t3  1.071243e+00           6  \n",
      "\t4  2.409346e-01           8  \n",
      "\t5  2.320370e-01           9  \n",
      "\t6  5.263612e-13          10  \n",
      "\t7  4.315570e-13          17  \n",
      "]\n"
     ]
    }
   ],
   "source": [
    "print(model)"
   ]
  },
  {
   "cell_type": "markdown",
   "metadata": {},
   "source": [
    "This arrow in the `pick` column indicates which equation is currently selected by your `model_selection` strategy for prediction. (You may change `model_selection` after `.fit(X, y)` as well.)"
   ]
  },
  {
   "cell_type": "code",
   "execution_count": 9,
   "metadata": {},
   "outputs": [
    {
     "data": {
      "text/html": [
       "<div>\n",
       "<style scoped>\n",
       "    .dataframe tbody tr th:only-of-type {\n",
       "        vertical-align: middle;\n",
       "    }\n",
       "\n",
       "    .dataframe tbody tr th {\n",
       "        vertical-align: top;\n",
       "    }\n",
       "\n",
       "    .dataframe thead th {\n",
       "        text-align: right;\n",
       "    }\n",
       "</style>\n",
       "<table border=\"1\" class=\"dataframe\">\n",
       "  <thead>\n",
       "    <tr style=\"text-align: right;\">\n",
       "      <th></th>\n",
       "      <th>complexity</th>\n",
       "      <th>loss</th>\n",
       "      <th>score</th>\n",
       "      <th>equation</th>\n",
       "      <th>sympy_format</th>\n",
       "      <th>lambda_format</th>\n",
       "      <th>torch_format</th>\n",
       "    </tr>\n",
       "  </thead>\n",
       "  <tbody>\n",
       "    <tr>\n",
       "      <th>0</th>\n",
       "      <td>2</td>\n",
       "      <td>4.451334e+01</td>\n",
       "      <td>0.000000</td>\n",
       "      <td>exp(1.5678316)</td>\n",
       "      <td>exp(1.5678316)</td>\n",
       "      <td>PySRFunction(X=&gt;exp(1.5678316))</td>\n",
       "      <td>_SingleSymPyModule(expression=exp(1.5678316))</td>\n",
       "    </tr>\n",
       "    <tr>\n",
       "      <th>1</th>\n",
       "      <td>3</td>\n",
       "      <td>2.691725e+00</td>\n",
       "      <td>2.805606</td>\n",
       "      <td>x0 * x0</td>\n",
       "      <td>x0*x0</td>\n",
       "      <td>PySRFunction(X=&gt;x0*x0)</td>\n",
       "      <td>_SingleSymPyModule(expression=x0*x0)</td>\n",
       "    </tr>\n",
       "    <tr>\n",
       "      <th>2</th>\n",
       "      <td>5</td>\n",
       "      <td>2.657958e+00</td>\n",
       "      <td>0.006312</td>\n",
       "      <td>-0.18381631 + (x0 * x0)</td>\n",
       "      <td>x0*x0 - 0.18381631</td>\n",
       "      <td>PySRFunction(X=&gt;x0*x0 - 0.18381631)</td>\n",
       "      <td>_SingleSymPyModule(expression=x0*x0 - 0.18381631)</td>\n",
       "    </tr>\n",
       "    <tr>\n",
       "      <th>3</th>\n",
       "      <td>6</td>\n",
       "      <td>1.071243e+00</td>\n",
       "      <td>0.908738</td>\n",
       "      <td>cos(x3) + (x0 * x0)</td>\n",
       "      <td>x0*x0 + cos(x3)</td>\n",
       "      <td>PySRFunction(X=&gt;x0*x0 + cos(x3))</td>\n",
       "      <td>_SingleSymPyModule(expression=x0*x0 + cos(x3))</td>\n",
       "    </tr>\n",
       "    <tr>\n",
       "      <th>4</th>\n",
       "      <td>8</td>\n",
       "      <td>2.409346e-01</td>\n",
       "      <td>0.746025</td>\n",
       "      <td>(x0 * x0) + (cos(x3) * 2.392678)</td>\n",
       "      <td>x0*x0 + cos(x3)*2.392678</td>\n",
       "      <td>PySRFunction(X=&gt;x0*x0 + cos(x3)*2.392678)</td>\n",
       "      <td>_SingleSymPyModule(expression=x0*x0 + cos(x3)*...</td>\n",
       "    </tr>\n",
       "    <tr>\n",
       "      <th>5</th>\n",
       "      <td>9</td>\n",
       "      <td>2.320370e-01</td>\n",
       "      <td>0.037629</td>\n",
       "      <td>(x0 * x0) + (sin(cos(x3)) * 2.6985104)</td>\n",
       "      <td>x0*x0 + sin(cos(x3))*2.6985104</td>\n",
       "      <td>PySRFunction(X=&gt;x0*x0 + sin(cos(x3))*2.6985104)</td>\n",
       "      <td>_SingleSymPyModule(expression=x0*x0 + sin(cos(...</td>\n",
       "    </tr>\n",
       "    <tr>\n",
       "      <th>6</th>\n",
       "      <td>10</td>\n",
       "      <td>5.263612e-13</td>\n",
       "      <td>26.811930</td>\n",
       "      <td>(x0 * x0) + ((cos(x3) * 2.5382) + -0.5)</td>\n",
       "      <td>x0*x0 + cos(x3)*2.5382 - 0.5</td>\n",
       "      <td>PySRFunction(X=&gt;x0*x0 + cos(x3)*2.5382 - 0.5)</td>\n",
       "      <td>_SingleSymPyModule(expression=x0*x0 + cos(x3)*...</td>\n",
       "    </tr>\n",
       "    <tr>\n",
       "      <th>7</th>\n",
       "      <td>17</td>\n",
       "      <td>4.315570e-13</td>\n",
       "      <td>0.028370</td>\n",
       "      <td>((x0 * x0) + ((-0.040418338 + cos(x3)) * 1.873...</td>\n",
       "      <td>x0*x0 + (cos(x3) - 0.6385346)*0.6644364 + (cos...</td>\n",
       "      <td>PySRFunction(X=&gt;x0*x0 + (cos(x3) - 0.6385346)*...</td>\n",
       "      <td>_SingleSymPyModule(expression=x0*x0 + (cos(x3)...</td>\n",
       "    </tr>\n",
       "  </tbody>\n",
       "</table>\n",
       "</div>"
      ],
      "text/plain": [
       "   complexity          loss      score  \\\n",
       "0           2  4.451334e+01   0.000000   \n",
       "1           3  2.691725e+00   2.805606   \n",
       "2           5  2.657958e+00   0.006312   \n",
       "3           6  1.071243e+00   0.908738   \n",
       "4           8  2.409346e-01   0.746025   \n",
       "5           9  2.320370e-01   0.037629   \n",
       "6          10  5.263612e-13  26.811930   \n",
       "7          17  4.315570e-13   0.028370   \n",
       "\n",
       "                                            equation  \\\n",
       "0                                     exp(1.5678316)   \n",
       "1                                            x0 * x0   \n",
       "2                            -0.18381631 + (x0 * x0)   \n",
       "3                                cos(x3) + (x0 * x0)   \n",
       "4                   (x0 * x0) + (cos(x3) * 2.392678)   \n",
       "5             (x0 * x0) + (sin(cos(x3)) * 2.6985104)   \n",
       "6            (x0 * x0) + ((cos(x3) * 2.5382) + -0.5)   \n",
       "7  ((x0 * x0) + ((-0.040418338 + cos(x3)) * 1.873...   \n",
       "\n",
       "                                        sympy_format  \\\n",
       "0                                     exp(1.5678316)   \n",
       "1                                              x0*x0   \n",
       "2                                 x0*x0 - 0.18381631   \n",
       "3                                    x0*x0 + cos(x3)   \n",
       "4                           x0*x0 + cos(x3)*2.392678   \n",
       "5                     x0*x0 + sin(cos(x3))*2.6985104   \n",
       "6                       x0*x0 + cos(x3)*2.5382 - 0.5   \n",
       "7  x0*x0 + (cos(x3) - 0.6385346)*0.6644364 + (cos...   \n",
       "\n",
       "                                       lambda_format  \\\n",
       "0                    PySRFunction(X=>exp(1.5678316))   \n",
       "1                             PySRFunction(X=>x0*x0)   \n",
       "2                PySRFunction(X=>x0*x0 - 0.18381631)   \n",
       "3                   PySRFunction(X=>x0*x0 + cos(x3))   \n",
       "4          PySRFunction(X=>x0*x0 + cos(x3)*2.392678)   \n",
       "5    PySRFunction(X=>x0*x0 + sin(cos(x3))*2.6985104)   \n",
       "6      PySRFunction(X=>x0*x0 + cos(x3)*2.5382 - 0.5)   \n",
       "7  PySRFunction(X=>x0*x0 + (cos(x3) - 0.6385346)*...   \n",
       "\n",
       "                                        torch_format  \n",
       "0      _SingleSymPyModule(expression=exp(1.5678316))  \n",
       "1               _SingleSymPyModule(expression=x0*x0)  \n",
       "2  _SingleSymPyModule(expression=x0*x0 - 0.18381631)  \n",
       "3     _SingleSymPyModule(expression=x0*x0 + cos(x3))  \n",
       "4  _SingleSymPyModule(expression=x0*x0 + cos(x3)*...  \n",
       "5  _SingleSymPyModule(expression=x0*x0 + sin(cos(...  \n",
       "6  _SingleSymPyModule(expression=x0*x0 + cos(x3)*...  \n",
       "7  _SingleSymPyModule(expression=x0*x0 + (cos(x3)...  "
      ]
     },
     "execution_count": 9,
     "metadata": {},
     "output_type": "execute_result"
    }
   ],
   "source": [
    "# 多种格式可切换\n",
    "model.equations_"
   ]
  },
  {
   "cell_type": "code",
   "execution_count": 10,
   "metadata": {},
   "outputs": [
    {
     "data": {
      "text/plain": [
       "_SingleSymPyModule(expression=x0*x0 + cos(x3)*2.5382 - 0.5)"
      ]
     },
     "execution_count": 10,
     "metadata": {},
     "output_type": "execute_result"
    }
   ],
   "source": [
    "model.pytorch()"
   ]
  }
 ],
 "metadata": {
  "kernelspec": {
   "display_name": "syh",
   "language": "python",
   "name": "python3"
  },
  "language_info": {
   "codemirror_mode": {
    "name": "ipython",
    "version": 3
   },
   "file_extension": ".py",
   "mimetype": "text/x-python",
   "name": "python",
   "nbconvert_exporter": "python",
   "pygments_lexer": "ipython3",
   "version": "3.8.20"
  }
 },
 "nbformat": 4,
 "nbformat_minor": 2
}
