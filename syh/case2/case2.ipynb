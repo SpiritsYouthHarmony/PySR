{
 "cells": [
  {
   "cell_type": "markdown",
   "metadata": {},
   "source": [
    "Toy Examples with Code"
   ]
  },
  {
   "cell_type": "markdown",
   "metadata": {},
   "source": [
    "https://ai.damtp.cam.ac.uk/pysr/api/"
   ]
  },
  {
   "cell_type": "code",
   "execution_count": 1,
   "metadata": {},
   "outputs": [
    {
     "name": "stdout",
     "output_type": "stream",
     "text": [
      "Detected IPython. Loading juliacall extension. See https://juliapy.github.io/PythonCall.jl/stable/compat/#IPython\n"
     ]
    }
   ],
   "source": [
    "import numpy as np\n",
    "from pysr import *"
   ]
  },
  {
   "cell_type": "markdown",
   "metadata": {},
   "source": [
    "`Simple search`\n",
    "\n",
    "拟合公式 $$ 2 \\cos (x_3) + x_0^2 - 2  $$"
   ]
  },
  {
   "cell_type": "code",
   "execution_count": 2,
   "metadata": {},
   "outputs": [
    {
     "name": "stderr",
     "output_type": "stream",
     "text": [
      "c:\\Users\\taizun\\miniconda3\\envs\\syh\\lib\\site-packages\\pysr\\sr.py:2582: UserWarning: Note: it looks like you are running in Jupyter. The progress bar will be turned off.\n",
      "  warnings.warn(\n"
     ]
    },
    {
     "name": "stdout",
     "output_type": "stream",
     "text": [
      "Compiling Julia backend...\n"
     ]
    },
    {
     "name": "stderr",
     "output_type": "stream",
     "text": [
      "[ Info: Started!\n"
     ]
    },
    {
     "name": "stdout",
     "output_type": "stream",
     "text": [
      "PySRRegressor.equations_ = [\n",
      "\t   pick     score                                           equation  \\\n",
      "\t0        0.000000                                            x0 * x0   \n",
      "\t1        0.480453                             -1.8618065 + (x0 * x0)   \n",
      "\t2        0.001592             -1.8601245 + ((x0 - 0.039912477) * x0)   \n",
      "\t3        0.036267      -1.8618065 + (x0 * (x0 + (-0.10506168 * x3)))   \n",
      "\t4        0.269381  (x0 * x0) - (x3 * (-0.34305695 * (0.12588452 -...   \n",
      "\t5  >>>>  0.226663  ((x0 * x0) + -0.85416466) - (x3 * ((0.1668744 ...   \n",
      "\t6        0.007926  ((x0 * x0) + -0.85416466) - (x3 * (((0.1668744...   \n",
      "\t7        0.023294  (-0.8539921 + (x0 * x0)) - (x3 * ((((x3 * 0.02...   \n",
      "\t8        0.016230  (-0.8539921 + (x0 * x0)) - (x3 * ((((x3 * 0.02...   \n",
      "\t\n",
      "\t       loss  complexity  \n",
      "\t0  5.613928           3  \n",
      "\t1  2.147588           5  \n",
      "\t2  2.140760           7  \n",
      "\t3  1.990981           9  \n",
      "\t4  1.161678          11  \n",
      "\t5  0.738260          13  \n",
      "\t6  0.726649          15  \n",
      "\t7  0.693572          17  \n",
      "\t8  0.671420          19  \n",
      "]\n"
     ]
    }
   ],
   "source": [
    "X = 2 * np.random.randn(100, 5)\n",
    "y = 2 * np.cos(X[:, 3]) + X[:, 0] ** 2 - 2\n",
    "model = PySRRegressor(binary_operators=[\"+\", \"-\", \"*\", \"/\"])\n",
    "model.fit(X, y)\n",
    "print(model)"
   ]
  },
  {
   "cell_type": "markdown",
   "metadata": {},
   "source": [
    "`Custom operator`"
   ]
  },
  {
   "cell_type": "code",
   "execution_count": 3,
   "metadata": {},
   "outputs": [
    {
     "name": "stderr",
     "output_type": "stream",
     "text": [
      "c:\\Users\\taizun\\miniconda3\\envs\\syh\\lib\\site-packages\\pysr\\sr.py:2582: UserWarning: Note: it looks like you are running in Jupyter. The progress bar will be turned off.\n",
      "  warnings.warn(\n",
      "[ Info: Started!\n"
     ]
    },
    {
     "name": "stdout",
     "output_type": "stream",
     "text": [
      "PySRRegressor.equations_ = [\n",
      "\t   pick      score   equation          loss  complexity\n",
      "\t0         0.000000  1.5116882  5.312147e+01           1\n",
      "\t1  >>>>  34.881849    inv(x0)  3.769429e-14           2\n",
      "]\n"
     ]
    }
   ],
   "source": [
    "X = 2 * np.random.randn(100, 5)\n",
    "y = 1 / X[:, 0]\n",
    "model = PySRRegressor(\n",
    "    binary_operators=[\"+\", \"*\"],\n",
    "    unary_operators=[\"inv(x) = 1/x\"],\n",
    "    extra_sympy_mappings={\"inv\": lambda x: 1/x},\n",
    ")\n",
    "model.fit(X, y)\n",
    "print(model)"
   ]
  },
  {
   "cell_type": "markdown",
   "metadata": {},
   "source": [
    "`Multiple outputs`"
   ]
  },
  {
   "cell_type": "code",
   "execution_count": null,
   "metadata": {},
   "outputs": [
    {
     "name": "stderr",
     "output_type": "stream",
     "text": [
      "c:\\Users\\taizun\\miniconda3\\envs\\syh\\lib\\site-packages\\pysr\\sr.py:2582: UserWarning: Note: it looks like you are running in Jupyter. The progress bar will be turned off.\n",
      "  warnings.warn(\n",
      "[ Info: Started!\n"
     ]
    },
    {
     "name": "stdout",
     "output_type": "stream",
     "text": [
      "\n",
      "Expressions evaluated per second: 3.950e+05\n",
      "Head worker occupation: 13.3%\n",
      "Progress: 847 / 1800 total iterations (47.056%)\n",
      "====================================================================================================\n",
      "Best equations for output 1\n",
      "Hall of Fame:\n",
      "---------------------------------------------------------------------------------------------------\n",
      "Complexity  Loss       Score     Equation\n",
      "1           9.593e+03  1.594e+01  y₀ = x₃\n",
      "2           1.495e-13  1.594e+01  y₀ = inv(x₀)\n",
      "8           1.495e-13  4.937e-06  y₀ = ((1.2569 + x₄) * 2.9375e-09) + inv(x₀)\n",
      "---------------------------------------------------------------------------------------------------\n",
      "====================================================================================================\n",
      "Best equations for output 2\n",
      "Hall of Fame:\n",
      "---------------------------------------------------------------------------------------------------\n",
      "Complexity  Loss       Score     Equation\n",
      "1           1.238e+01  1.594e+01  y₁ = 0.33672\n",
      "2           5.106e-14  1.594e+01  y₁ = inv(x₁)\n",
      "---------------------------------------------------------------------------------------------------\n",
      "====================================================================================================\n",
      "Best equations for output 3\n",
      "Hall of Fame:\n",
      "---------------------------------------------------------------------------------------------------\n",
      "Complexity  Loss       Score     Equation\n",
      "2           1.156e-14  7.971e+00  y₂ = inv(x₂)\n",
      "8           1.155e-14  1.281e-04  y₂ = 0.010385 + (inv(x₂) + (-0.16866 * 0.061572))\n",
      "---------------------------------------------------------------------------------------------------\n",
      "====================================================================================================\n",
      "Press 'q' and then <enter> to stop execution early.\n",
      "\n",
      "Expressions evaluated per second: 3.130e+05\n",
      "Head worker occupation: 23.5%\n",
      "Progress: 1305 / 1800 total iterations (72.500%)\n",
      "====================================================================================================\n",
      "Best equations for output 1\n",
      "Hall of Fame:\n",
      "---------------------------------------------------------------------------------------------------\n",
      "Complexity  Loss       Score     Equation\n",
      "1           9.593e+03  1.594e+01  y₀ = x₃\n",
      "2           1.495e-13  1.594e+01  y₀ = inv(x₀)\n",
      "8           1.495e-13  4.937e-06  y₀ = ((1.2569 + x₄) * 2.9375e-09) + inv(x₀)\n",
      "---------------------------------------------------------------------------------------------------\n",
      "====================================================================================================\n",
      "Best equations for output 2\n",
      "Hall of Fame:\n",
      "---------------------------------------------------------------------------------------------------\n",
      "Complexity  Loss       Score     Equation\n",
      "1           1.238e+01  1.594e+01  y₁ = 0.33672\n",
      "2           5.106e-14  1.594e+01  y₁ = inv(x₁)\n",
      "---------------------------------------------------------------------------------------------------\n",
      "====================================================================================================\n",
      "Best equations for output 3\n",
      "Hall of Fame:\n",
      "---------------------------------------------------------------------------------------------------\n",
      "Complexity  Loss       Score     Equation\n",
      "2           1.156e-14  7.971e+00  y₂ = inv(x₂)\n",
      "8           1.155e-14  1.281e-04  y₂ = 0.010385 + (inv(x₂) + (-0.16866 * 0.061572))\n",
      "---------------------------------------------------------------------------------------------------\n",
      "====================================================================================================\n",
      "Press 'q' and then <enter> to stop execution early.\n",
      "\n",
      "Expressions evaluated per second: 2.150e+05\n",
      "Head worker occupation: 34.7%\n",
      "Progress: 1384 / 1800 total iterations (76.889%)\n",
      "====================================================================================================\n",
      "Best equations for output 1\n",
      "Hall of Fame:\n",
      "---------------------------------------------------------------------------------------------------\n",
      "Complexity  Loss       Score     Equation\n",
      "1           9.593e+03  1.594e+01  y₀ = x₃\n",
      "2           1.495e-13  1.594e+01  y₀ = inv(x₀)\n",
      "8           1.495e-13  4.937e-06  y₀ = ((1.2569 + x₄) * 2.9375e-09) + inv(x₀)\n",
      "---------------------------------------------------------------------------------------------------\n",
      "====================================================================================================\n",
      "Best equations for output 2\n",
      "Hall of Fame:\n",
      "---------------------------------------------------------------------------------------------------\n",
      "Complexity  Loss       Score     Equation\n",
      "1           1.238e+01  1.594e+01  y₁ = 0.33672\n",
      "2           5.106e-14  1.594e+01  y₁ = inv(x₁)\n",
      "---------------------------------------------------------------------------------------------------\n",
      "====================================================================================================\n",
      "Best equations for output 3\n",
      "Hall of Fame:\n",
      "---------------------------------------------------------------------------------------------------\n",
      "Complexity  Loss       Score     Equation\n",
      "2           1.156e-14  7.971e+00  y₂ = inv(x₂)\n",
      "8           1.155e-14  1.281e-04  y₂ = 0.010385 + (inv(x₂) + (-0.16866 * 0.061572))\n",
      "---------------------------------------------------------------------------------------------------\n",
      "====================================================================================================\n",
      "Press 'q' and then <enter> to stop execution early.\n",
      "\n",
      "Expressions evaluated per second: 1.660e+05\n",
      "Head worker occupation: 42.7%. This is high, and will prevent efficient resource usage. Increase `ncycles_per_iteration` to reduce load on head worker.\n",
      "Progress: 1445 / 1800 total iterations (80.278%)\n",
      "====================================================================================================\n",
      "Best equations for output 1\n",
      "Hall of Fame:\n",
      "---------------------------------------------------------------------------------------------------\n",
      "Complexity  Loss       Score     Equation\n",
      "1           9.593e+03  1.594e+01  y₀ = x₃\n",
      "2           1.495e-13  1.594e+01  y₀ = inv(x₀)\n",
      "8           1.495e-13  4.937e-06  y₀ = ((1.2569 + x₄) * 2.9375e-09) + inv(x₀)\n",
      "---------------------------------------------------------------------------------------------------\n",
      "====================================================================================================\n",
      "Best equations for output 2\n",
      "Hall of Fame:\n",
      "---------------------------------------------------------------------------------------------------\n",
      "Complexity  Loss       Score     Equation\n",
      "1           1.238e+01  1.594e+01  y₁ = 0.33672\n",
      "2           5.106e-14  1.594e+01  y₁ = inv(x₁)\n",
      "---------------------------------------------------------------------------------------------------\n",
      "====================================================================================================\n",
      "Best equations for output 3\n",
      "Hall of Fame:\n",
      "---------------------------------------------------------------------------------------------------\n",
      "Complexity  Loss       Score     Equation\n",
      "2           1.156e-14  7.971e+00  y₂ = inv(x₂)\n",
      "8           1.155e-14  1.281e-04  y₂ = 0.010385 + (inv(x₂) + (-0.16866 * 0.061572))\n",
      "---------------------------------------------------------------------------------------------------\n",
      "====================================================================================================\n",
      "Press 'q' and then <enter> to stop execution early.\n",
      "\n",
      "Expressions evaluated per second: 8.720e+04\n",
      "Head worker occupation: 46.3%. This is high, and will prevent efficient resource usage. Increase `ncycles_per_iteration` to reduce load on head worker.\n",
      "Progress: 1521 / 1800 total iterations (84.500%)\n",
      "====================================================================================================\n",
      "Best equations for output 1\n",
      "Hall of Fame:\n",
      "---------------------------------------------------------------------------------------------------\n",
      "Complexity  Loss       Score     Equation\n",
      "1           9.593e+03  1.594e+01  y₀ = x₃\n",
      "2           1.495e-13  1.594e+01  y₀ = inv(x₀)\n",
      "8           1.495e-13  4.937e-06  y₀ = ((1.2569 + x₄) * 2.9375e-09) + inv(x₀)\n",
      "---------------------------------------------------------------------------------------------------\n",
      "====================================================================================================\n",
      "Best equations for output 2\n",
      "Hall of Fame:\n",
      "---------------------------------------------------------------------------------------------------\n",
      "Complexity  Loss       Score     Equation\n",
      "1           1.238e+01  1.594e+01  y₁ = 0.33672\n",
      "2           5.106e-14  1.594e+01  y₁ = inv(x₁)\n",
      "---------------------------------------------------------------------------------------------------\n",
      "====================================================================================================\n",
      "Best equations for output 3\n",
      "Hall of Fame:\n",
      "---------------------------------------------------------------------------------------------------\n",
      "Complexity  Loss       Score     Equation\n",
      "2           1.156e-14  7.971e+00  y₂ = inv(x₂)\n",
      "8           1.155e-14  1.281e-04  y₂ = 0.010385 + (inv(x₂) + (-0.16866 * 0.061572))\n",
      "---------------------------------------------------------------------------------------------------\n",
      "====================================================================================================\n",
      "Press 'q' and then <enter> to stop execution early.\n",
      "\n",
      "Expressions evaluated per second: 3.400e+04\n",
      "Head worker occupation: 49.5%. This is high, and will prevent efficient resource usage. Increase `ncycles_per_iteration` to reduce load on head worker.\n",
      "Progress: 1596 / 1800 total iterations (88.667%)\n",
      "====================================================================================================\n",
      "Best equations for output 1\n",
      "Hall of Fame:\n",
      "---------------------------------------------------------------------------------------------------\n",
      "Complexity  Loss       Score     Equation\n",
      "1           9.593e+03  1.594e+01  y₀ = x₃\n",
      "2           1.495e-13  1.594e+01  y₀ = inv(x₀)\n",
      "8           1.495e-13  4.937e-06  y₀ = ((1.2569 + x₄) * 2.9375e-09) + inv(x₀)\n",
      "---------------------------------------------------------------------------------------------------\n",
      "====================================================================================================\n",
      "Best equations for output 2\n",
      "Hall of Fame:\n",
      "---------------------------------------------------------------------------------------------------\n",
      "Complexity  Loss       Score     Equation\n",
      "1           1.238e+01  1.594e+01  y₁ = 0.33672\n",
      "2           5.106e-14  1.594e+01  y₁ = inv(x₁)\n",
      "---------------------------------------------------------------------------------------------------\n",
      "====================================================================================================\n",
      "Best equations for output 3\n",
      "Hall of Fame:\n",
      "---------------------------------------------------------------------------------------------------\n",
      "Complexity  Loss       Score     Equation\n",
      "2           1.156e-14  7.971e+00  y₂ = inv(x₂)\n",
      "8           1.155e-14  1.281e-04  y₂ = 0.010385 + (inv(x₂) + (-0.16866 * 0.061572))\n",
      "---------------------------------------------------------------------------------------------------\n",
      "====================================================================================================\n",
      "Press 'q' and then <enter> to stop execution early.\n",
      "\n",
      "Expressions evaluated per second: 3.480e+04\n",
      "Head worker occupation: 52.4%. This is high, and will prevent efficient resource usage. Increase `ncycles_per_iteration` to reduce load on head worker.\n",
      "Progress: 1679 / 1800 total iterations (93.278%)\n",
      "====================================================================================================\n",
      "Best equations for output 1\n",
      "Hall of Fame:\n",
      "---------------------------------------------------------------------------------------------------\n",
      "Complexity  Loss       Score     Equation\n",
      "1           9.593e+03  1.594e+01  y₀ = x₃\n",
      "2           1.495e-13  1.594e+01  y₀ = inv(x₀)\n",
      "8           1.495e-13  4.937e-06  y₀ = ((1.2569 + x₄) * 2.9375e-09) + inv(x₀)\n",
      "---------------------------------------------------------------------------------------------------\n",
      "====================================================================================================\n",
      "Best equations for output 2\n",
      "Hall of Fame:\n",
      "---------------------------------------------------------------------------------------------------\n",
      "Complexity  Loss       Score     Equation\n",
      "1           1.238e+01  1.594e+01  y₁ = 0.33672\n",
      "2           5.106e-14  1.594e+01  y₁ = inv(x₁)\n",
      "---------------------------------------------------------------------------------------------------\n",
      "====================================================================================================\n",
      "Best equations for output 3\n",
      "Hall of Fame:\n",
      "---------------------------------------------------------------------------------------------------\n",
      "Complexity  Loss       Score     Equation\n",
      "2           1.156e-14  7.971e+00  y₂ = inv(x₂)\n",
      "8           1.155e-14  1.281e-04  y₂ = 0.010385 + (inv(x₂) + (-0.16866 * 0.061572))\n",
      "---------------------------------------------------------------------------------------------------\n",
      "====================================================================================================\n",
      "Press 'q' and then <enter> to stop execution early.\n",
      "\n",
      "Expressions evaluated per second: 3.510e+04\n",
      "Head worker occupation: 53.3%. This is high, and will prevent efficient resource usage. Increase `ncycles_per_iteration` to reduce load on head worker.\n",
      "Progress: 1745 / 1800 total iterations (96.944%)\n",
      "====================================================================================================\n",
      "Best equations for output 1\n",
      "Hall of Fame:\n",
      "---------------------------------------------------------------------------------------------------\n",
      "Complexity  Loss       Score     Equation\n",
      "1           9.593e+03  1.594e+01  y₀ = x₃\n",
      "2           1.495e-13  1.594e+01  y₀ = inv(x₀)\n",
      "8           1.495e-13  4.937e-06  y₀ = ((1.2569 + x₄) * 2.9375e-09) + inv(x₀)\n",
      "---------------------------------------------------------------------------------------------------\n",
      "====================================================================================================\n",
      "Best equations for output 2\n",
      "Hall of Fame:\n",
      "---------------------------------------------------------------------------------------------------\n",
      "Complexity  Loss       Score     Equation\n",
      "1           1.238e+01  1.594e+01  y₁ = 0.33672\n",
      "2           5.106e-14  1.594e+01  y₁ = inv(x₁)\n",
      "---------------------------------------------------------------------------------------------------\n",
      "====================================================================================================\n",
      "Best equations for output 3\n",
      "Hall of Fame:\n",
      "---------------------------------------------------------------------------------------------------\n",
      "Complexity  Loss       Score     Equation\n",
      "2           1.156e-14  7.971e+00  y₂ = inv(x₂)\n",
      "8           1.155e-14  1.281e-04  y₂ = 0.010385 + (inv(x₂) + (-0.16866 * 0.061572))\n",
      "---------------------------------------------------------------------------------------------------\n",
      "====================================================================================================\n",
      "Press 'q' and then <enter> to stop execution early.\n"
     ]
    },
    {
     "data": {
      "text/html": [
       "<style>#sk-container-id-1 {color: black;}#sk-container-id-1 pre{padding: 0;}#sk-container-id-1 div.sk-toggleable {background-color: white;}#sk-container-id-1 label.sk-toggleable__label {cursor: pointer;display: block;width: 100%;margin-bottom: 0;padding: 0.3em;box-sizing: border-box;text-align: center;}#sk-container-id-1 label.sk-toggleable__label-arrow:before {content: \"▸\";float: left;margin-right: 0.25em;color: #696969;}#sk-container-id-1 label.sk-toggleable__label-arrow:hover:before {color: black;}#sk-container-id-1 div.sk-estimator:hover label.sk-toggleable__label-arrow:before {color: black;}#sk-container-id-1 div.sk-toggleable__content {max-height: 0;max-width: 0;overflow: hidden;text-align: left;background-color: #f0f8ff;}#sk-container-id-1 div.sk-toggleable__content pre {margin: 0.2em;color: black;border-radius: 0.25em;background-color: #f0f8ff;}#sk-container-id-1 input.sk-toggleable__control:checked~div.sk-toggleable__content {max-height: 200px;max-width: 100%;overflow: auto;}#sk-container-id-1 input.sk-toggleable__control:checked~label.sk-toggleable__label-arrow:before {content: \"▾\";}#sk-container-id-1 div.sk-estimator input.sk-toggleable__control:checked~label.sk-toggleable__label {background-color: #d4ebff;}#sk-container-id-1 div.sk-label input.sk-toggleable__control:checked~label.sk-toggleable__label {background-color: #d4ebff;}#sk-container-id-1 input.sk-hidden--visually {border: 0;clip: rect(1px 1px 1px 1px);clip: rect(1px, 1px, 1px, 1px);height: 1px;margin: -1px;overflow: hidden;padding: 0;position: absolute;width: 1px;}#sk-container-id-1 div.sk-estimator {font-family: monospace;background-color: #f0f8ff;border: 1px dotted black;border-radius: 0.25em;box-sizing: border-box;margin-bottom: 0.5em;}#sk-container-id-1 div.sk-estimator:hover {background-color: #d4ebff;}#sk-container-id-1 div.sk-parallel-item::after {content: \"\";width: 100%;border-bottom: 1px solid gray;flex-grow: 1;}#sk-container-id-1 div.sk-label:hover label.sk-toggleable__label {background-color: #d4ebff;}#sk-container-id-1 div.sk-serial::before {content: \"\";position: absolute;border-left: 1px solid gray;box-sizing: border-box;top: 0;bottom: 0;left: 50%;z-index: 0;}#sk-container-id-1 div.sk-serial {display: flex;flex-direction: column;align-items: center;background-color: white;padding-right: 0.2em;padding-left: 0.2em;position: relative;}#sk-container-id-1 div.sk-item {position: relative;z-index: 1;}#sk-container-id-1 div.sk-parallel {display: flex;align-items: stretch;justify-content: center;background-color: white;position: relative;}#sk-container-id-1 div.sk-item::before, #sk-container-id-1 div.sk-parallel-item::before {content: \"\";position: absolute;border-left: 1px solid gray;box-sizing: border-box;top: 0;bottom: 0;left: 50%;z-index: -1;}#sk-container-id-1 div.sk-parallel-item {display: flex;flex-direction: column;z-index: 1;position: relative;background-color: white;}#sk-container-id-1 div.sk-parallel-item:first-child::after {align-self: flex-end;width: 50%;}#sk-container-id-1 div.sk-parallel-item:last-child::after {align-self: flex-start;width: 50%;}#sk-container-id-1 div.sk-parallel-item:only-child::after {width: 0;}#sk-container-id-1 div.sk-dashed-wrapped {border: 1px dashed gray;margin: 0 0.4em 0.5em 0.4em;box-sizing: border-box;padding-bottom: 0.4em;background-color: white;}#sk-container-id-1 div.sk-label label {font-family: monospace;font-weight: bold;display: inline-block;line-height: 1.2em;}#sk-container-id-1 div.sk-label-container {text-align: center;}#sk-container-id-1 div.sk-container {/* jupyter's `normalize.less` sets `[hidden] { display: none; }` but bootstrap.min.css set `[hidden] { display: none !important; }` so we also need the `!important` here to be able to override the default hidden behavior on the sphinx rendered scikit-learn.org. See: https://github.com/scikit-learn/scikit-learn/issues/21755 */display: inline-block !important;position: relative;}#sk-container-id-1 div.sk-text-repr-fallback {display: none;}</style><div id=\"sk-container-id-1\" class=\"sk-top-container\"><div class=\"sk-text-repr-fallback\"><pre>PySRRegressor.equations_ = [\n",
       "[\n",
       "\t   pick      score                                    equation          loss  \\\n",
       "\t0         0.000000                                          x3  9.593046e+03   \n",
       "\t1  &gt;&gt;&gt;&gt;  38.700108                                     inv(x0)  1.495248e-13   \n",
       "\t2         0.000005  ((1.2568897 + x4) * 2.937454e-9) + inv(x0)  1.495204e-13   \n",
       "\t\n",
       "\t   complexity  \n",
       "\t0           1  \n",
       "\t1           2  \n",
       "\t2           8  \n",
       "], [\n",
       "\t   pick      score   equation          loss  complexity\n",
       "\t0         0.000000  0.3367189  1.238417e+01           1\n",
       "\t1  &gt;&gt;&gt;&gt;  33.122123    inv(x1)  5.106360e-14           2\n",
       "], [\n",
       "\t   pick     score                                           equation  \\\n",
       "\t0        0.000000                                            inv(x2)   \n",
       "\t1  &gt;&gt;&gt;&gt;  0.000128  0.010384511 + (inv(x2) + (-0.16865532 * 0.0615...   \n",
       "\t\n",
       "\t           loss  complexity  \n",
       "\t0  1.155964e-14           2  \n",
       "\t1  1.155076e-14           8  \n",
       "]]</pre><b>In a Jupyter environment, please rerun this cell to show the HTML representation or trust the notebook. <br />On GitHub, the HTML representation is unable to render, please try loading this page with nbviewer.org.</b></div><div class=\"sk-container\" hidden><div class=\"sk-item\"><div class=\"sk-estimator sk-toggleable\"><input class=\"sk-toggleable__control sk-hidden--visually\" id=\"sk-estimator-id-1\" type=\"checkbox\" checked><label for=\"sk-estimator-id-1\" class=\"sk-toggleable__label sk-toggleable__label-arrow\">PySRRegressor</label><div class=\"sk-toggleable__content\"><pre>PySRRegressor.equations_ = [\n",
       "[\n",
       "\t   pick      score                                    equation          loss  \\\n",
       "\t0         0.000000                                          x3  9.593046e+03   \n",
       "\t1  &gt;&gt;&gt;&gt;  38.700108                                     inv(x0)  1.495248e-13   \n",
       "\t2         0.000005  ((1.2568897 + x4) * 2.937454e-9) + inv(x0)  1.495204e-13   \n",
       "\t\n",
       "\t   complexity  \n",
       "\t0           1  \n",
       "\t1           2  \n",
       "\t2           8  \n",
       "], [\n",
       "\t   pick      score   equation          loss  complexity\n",
       "\t0         0.000000  0.3367189  1.238417e+01           1\n",
       "\t1  &gt;&gt;&gt;&gt;  33.122123    inv(x1)  5.106360e-14           2\n",
       "], [\n",
       "\t   pick     score                                           equation  \\\n",
       "\t0        0.000000                                            inv(x2)   \n",
       "\t1  &gt;&gt;&gt;&gt;  0.000128  0.010384511 + (inv(x2) + (-0.16865532 * 0.0615...   \n",
       "\t\n",
       "\t           loss  complexity  \n",
       "\t0  1.155964e-14           2  \n",
       "\t1  1.155076e-14           8  \n",
       "]]</pre></div></div></div></div></div>"
      ],
      "text/plain": [
       "PySRRegressor.equations_ = [\n",
       "[\n",
       "\t   pick      score                                    equation          loss  \\\n",
       "\t0         0.000000                                          x3  9.593046e+03   \n",
       "\t1  >>>>  38.700108                                     inv(x0)  1.495248e-13   \n",
       "\t2         0.000005  ((1.2568897 + x4) * 2.937454e-9) + inv(x0)  1.495204e-13   \n",
       "\t\n",
       "\t   complexity  \n",
       "\t0           1  \n",
       "\t1           2  \n",
       "\t2           8  \n",
       "], [\n",
       "\t   pick      score   equation          loss  complexity\n",
       "\t0         0.000000  0.3367189  1.238417e+01           1\n",
       "\t1  >>>>  33.122123    inv(x1)  5.106360e-14           2\n",
       "], [\n",
       "\t   pick     score                                           equation  \\\n",
       "\t0        0.000000                                            inv(x2)   \n",
       "\t1  >>>>  0.000128  0.010384511 + (inv(x2) + (-0.16865532 * 0.0615...   \n",
       "\t\n",
       "\t           loss  complexity  \n",
       "\t0  1.155964e-14           2  \n",
       "\t1  1.155076e-14           8  \n",
       "]]"
      ]
     },
     "execution_count": 4,
     "metadata": {},
     "output_type": "execute_result"
    }
   ],
   "source": [
    "X = 2 * np.random.randn(100, 5)\n",
    "y = 1 / X[:, [0, 1, 2]] # 可以看到这里有多个输入\n",
    "model = PySRRegressor(\n",
    "    binary_operators=[\"+\", \"*\"],\n",
    "    unary_operators=[\"inv(x) = 1/x\"],\n",
    "    extra_sympy_mappings={\"inv\": lambda x: 1/x},\n",
    ")\n",
    "model.fit(X, y)"
   ]
  },
  {
   "cell_type": "markdown",
   "metadata": {},
   "source": [
    "`Plotting an expression`"
   ]
  },
  {
   "cell_type": "code",
   "execution_count": 5,
   "metadata": {},
   "outputs": [
    {
     "data": {
      "text/plain": [
       "'\\\\frac{1}{x_{0}}'"
      ]
     },
     "execution_count": 5,
     "metadata": {},
     "output_type": "execute_result"
    }
   ],
   "source": [
    "model.latex()[0]"
   ]
  },
  {
   "cell_type": "code",
   "execution_count": 6,
   "metadata": {},
   "outputs": [
    {
     "data": {
      "image/png": "[encoded data removed]",
      "text/plain": [
       "<Figure size 640x480 with 1 Axes>"
      ]
     },
     "metadata": {},
     "output_type": "display_data"
    }
   ],
   "source": [
    "from matplotlib import pyplot as plt\n",
    "plt.scatter(y[:, 0], model.predict(X)[:, 0])\n",
    "plt.xlabel('Truth')\n",
    "plt.ylabel('Prediction')\n",
    "plt.show()"
   ]
  },
  {
   "cell_type": "markdown",
   "metadata": {},
   "source": [
    "`Feature selection`\n",
    "\n",
    "PySR and evolution-based symbolic regression in general performs very poorly when the number of features is large. Even, say, 10 features might be too much for a typical equation search.\n",
    "\n",
    "If you are dealing with high-dimensional data with a particular type of structure, you might consider using deep learning to break the problem into smaller \"chunks\" which can then be solved by PySR, as explained in the paper https://arxiv.org/abs/2006.11287\n",
    "\n",
    "For tabular datasets, this is a bit trickier. Luckily, PySR has a built-in feature selection mechanism. Simply declare the parameter `select_k_features=5`, for selecting the most important 5 features."
   ]
  },
  {
   "cell_type": "code",
   "execution_count": 7,
   "metadata": {},
   "outputs": [],
   "source": [
    "X = np.random.randn(300, 30)\n",
    "y = X[:, 3]**2 - X[:, 19]**2 + 1.5"
   ]
  },
  {
   "cell_type": "code",
   "execution_count": 8,
   "metadata": {},
   "outputs": [],
   "source": [
    "model = PySRRegressor(\n",
    "    binary_operators=[\"+\", \"-\", \"*\", \"/\"],\n",
    "    unary_operators=[\"exp\"],\n",
    "    select_k_features=5,\n",
    ")"
   ]
  },
  {
   "cell_type": "code",
   "execution_count": 9,
   "metadata": {},
   "outputs": [
    {
     "name": "stderr",
     "output_type": "stream",
     "text": [
      "c:\\Users\\taizun\\miniconda3\\envs\\syh\\lib\\site-packages\\pysr\\sr.py:2582: UserWarning: Note: it looks like you are running in Jupyter. The progress bar will be turned off.\n",
      "  warnings.warn(\n"
     ]
    },
    {
     "name": "stdout",
     "output_type": "stream",
     "text": [
      "Using features ['x3' 'x7' 'x10' 'x19' 'x26']\n"
     ]
    },
    {
     "name": "stderr",
     "output_type": "stream",
     "text": [
      "[ Info: Started!\n"
     ]
    },
    {
     "data": {
      "text/html": [
       "<style>#sk-container-id-2 {color: black;}#sk-container-id-2 pre{padding: 0;}#sk-container-id-2 div.sk-toggleable {background-color: white;}#sk-container-id-2 label.sk-toggleable__label {cursor: pointer;display: block;width: 100%;margin-bottom: 0;padding: 0.3em;box-sizing: border-box;text-align: center;}#sk-container-id-2 label.sk-toggleable__label-arrow:before {content: \"▸\";float: left;margin-right: 0.25em;color: #696969;}#sk-container-id-2 label.sk-toggleable__label-arrow:hover:before {color: black;}#sk-container-id-2 div.sk-estimator:hover label.sk-toggleable__label-arrow:before {color: black;}#sk-container-id-2 div.sk-toggleable__content {max-height: 0;max-width: 0;overflow: hidden;text-align: left;background-color: #f0f8ff;}#sk-container-id-2 div.sk-toggleable__content pre {margin: 0.2em;color: black;border-radius: 0.25em;background-color: #f0f8ff;}#sk-container-id-2 input.sk-toggleable__control:checked~div.sk-toggleable__content {max-height: 200px;max-width: 100%;overflow: auto;}#sk-container-id-2 input.sk-toggleable__control:checked~label.sk-toggleable__label-arrow:before {content: \"▾\";}#sk-container-id-2 div.sk-estimator input.sk-toggleable__control:checked~label.sk-toggleable__label {background-color: #d4ebff;}#sk-container-id-2 div.sk-label input.sk-toggleable__control:checked~label.sk-toggleable__label {background-color: #d4ebff;}#sk-container-id-2 input.sk-hidden--visually {border: 0;clip: rect(1px 1px 1px 1px);clip: rect(1px, 1px, 1px, 1px);height: 1px;margin: -1px;overflow: hidden;padding: 0;position: absolute;width: 1px;}#sk-container-id-2 div.sk-estimator {font-family: monospace;background-color: #f0f8ff;border: 1px dotted black;border-radius: 0.25em;box-sizing: border-box;margin-bottom: 0.5em;}#sk-container-id-2 div.sk-estimator:hover {background-color: #d4ebff;}#sk-container-id-2 div.sk-parallel-item::after {content: \"\";width: 100%;border-bottom: 1px solid gray;flex-grow: 1;}#sk-container-id-2 div.sk-label:hover label.sk-toggleable__label {background-color: #d4ebff;}#sk-container-id-2 div.sk-serial::before {content: \"\";position: absolute;border-left: 1px solid gray;box-sizing: border-box;top: 0;bottom: 0;left: 50%;z-index: 0;}#sk-container-id-2 div.sk-serial {display: flex;flex-direction: column;align-items: center;background-color: white;padding-right: 0.2em;padding-left: 0.2em;position: relative;}#sk-container-id-2 div.sk-item {position: relative;z-index: 1;}#sk-container-id-2 div.sk-parallel {display: flex;align-items: stretch;justify-content: center;background-color: white;position: relative;}#sk-container-id-2 div.sk-item::before, #sk-container-id-2 div.sk-parallel-item::before {content: \"\";position: absolute;border-left: 1px solid gray;box-sizing: border-box;top: 0;bottom: 0;left: 50%;z-index: -1;}#sk-container-id-2 div.sk-parallel-item {display: flex;flex-direction: column;z-index: 1;position: relative;background-color: white;}#sk-container-id-2 div.sk-parallel-item:first-child::after {align-self: flex-end;width: 50%;}#sk-container-id-2 div.sk-parallel-item:last-child::after {align-self: flex-start;width: 50%;}#sk-container-id-2 div.sk-parallel-item:only-child::after {width: 0;}#sk-container-id-2 div.sk-dashed-wrapped {border: 1px dashed gray;margin: 0 0.4em 0.5em 0.4em;box-sizing: border-box;padding-bottom: 0.4em;background-color: white;}#sk-container-id-2 div.sk-label label {font-family: monospace;font-weight: bold;display: inline-block;line-height: 1.2em;}#sk-container-id-2 div.sk-label-container {text-align: center;}#sk-container-id-2 div.sk-container {/* jupyter's `normalize.less` sets `[hidden] { display: none; }` but bootstrap.min.css set `[hidden] { display: none !important; }` so we also need the `!important` here to be able to override the default hidden behavior on the sphinx rendered scikit-learn.org. See: https://github.com/scikit-learn/scikit-learn/issues/21755 */display: inline-block !important;position: relative;}#sk-container-id-2 div.sk-text-repr-fallback {display: none;}</style><div id=\"sk-container-id-2\" class=\"sk-top-container\"><div class=\"sk-text-repr-fallback\"><pre>PySRRegressor.equations_ = [\n",
       "\t   pick      score                                           equation  \\\n",
       "\t0         0.000000                                      exp(0.574352)   \n",
       "\t1         0.639663                                            x3 * x3   \n",
       "\t2         0.093628                             0.57598937 + (x3 * x3)   \n",
       "\t3         0.004532               ((x3 / 1.0834885) * x3) - -0.6685054   \n",
       "\t4  &gt;&gt;&gt;&gt;  15.843462                   ((x3 * x3) - (x19 * x19)) - -1.5   \n",
       "\t5         0.017426  (((x3 * x3) - (x19 * x19)) + 0.7949385) + 0.70...   \n",
       "\t\n",
       "\t           loss  complexity  \n",
       "\t0  3.684310e+00           2  \n",
       "\t1  1.943363e+00           3  \n",
       "\t2  1.611496e+00           5  \n",
       "\t3  1.596956e+00           7  \n",
       "\t4  2.765902e-14           9  \n",
       "\t5  2.671163e-14          11  \n",
       "]</pre><b>In a Jupyter environment, please rerun this cell to show the HTML representation or trust the notebook. <br />On GitHub, the HTML representation is unable to render, please try loading this page with nbviewer.org.</b></div><div class=\"sk-container\" hidden><div class=\"sk-item\"><div class=\"sk-estimator sk-toggleable\"><input class=\"sk-toggleable__control sk-hidden--visually\" id=\"sk-estimator-id-2\" type=\"checkbox\" checked><label for=\"sk-estimator-id-2\" class=\"sk-toggleable__label sk-toggleable__label-arrow\">PySRRegressor</label><div class=\"sk-toggleable__content\"><pre>PySRRegressor.equations_ = [\n",
       "\t   pick      score                                           equation  \\\n",
       "\t0         0.000000                                      exp(0.574352)   \n",
       "\t1         0.639663                                            x3 * x3   \n",
       "\t2         0.093628                             0.57598937 + (x3 * x3)   \n",
       "\t3         0.004532               ((x3 / 1.0834885) * x3) - -0.6685054   \n",
       "\t4  &gt;&gt;&gt;&gt;  15.843462                   ((x3 * x3) - (x19 * x19)) - -1.5   \n",
       "\t5         0.017426  (((x3 * x3) - (x19 * x19)) + 0.7949385) + 0.70...   \n",
       "\t\n",
       "\t           loss  complexity  \n",
       "\t0  3.684310e+00           2  \n",
       "\t1  1.943363e+00           3  \n",
       "\t2  1.611496e+00           5  \n",
       "\t3  1.596956e+00           7  \n",
       "\t4  2.765902e-14           9  \n",
       "\t5  2.671163e-14          11  \n",
       "]</pre></div></div></div></div></div>"
      ],
      "text/plain": [
       "PySRRegressor.equations_ = [\n",
       "\t   pick      score                                           equation  \\\n",
       "\t0         0.000000                                      exp(0.574352)   \n",
       "\t1         0.639663                                            x3 * x3   \n",
       "\t2         0.093628                             0.57598937 + (x3 * x3)   \n",
       "\t3         0.004532               ((x3 / 1.0834885) * x3) - -0.6685054   \n",
       "\t4  >>>>  15.843462                   ((x3 * x3) - (x19 * x19)) - -1.5   \n",
       "\t5         0.017426  (((x3 * x3) - (x19 * x19)) + 0.7949385) + 0.70...   \n",
       "\t\n",
       "\t           loss  complexity  \n",
       "\t0  3.684310e+00           2  \n",
       "\t1  1.943363e+00           3  \n",
       "\t2  1.611496e+00           5  \n",
       "\t3  1.596956e+00           7  \n",
       "\t4  2.765902e-14           9  \n",
       "\t5  2.671163e-14          11  \n",
       "]"
      ]
     },
     "execution_count": 9,
     "metadata": {},
     "output_type": "execute_result"
    }
   ],
   "source": [
    "model.fit(X, y)"
   ]
  },
  {
   "cell_type": "markdown",
   "metadata": {},
   "source": [
    "Before the Julia backend is launched, you can see the string:\n",
    "\n",
    "`Using features ['x3', 'x5', 'x7', 'x19', 'x21']`\n",
    "\n",
    "which indicates that the feature selection (powered by a gradient-boosting tree) has successfully selected the relevant two features.\n",
    "\n",
    "This fit should find the solution quickly, whereas with the huge number of features, it would have struggled.\n",
    "\n",
    "This simple preprocessing step is enough to simplify our tabular dataset, but again, for more structured datasets, you should try the deep learning approach mentioned above."
   ]
  }
 ],
 "metadata": {
  "kernelspec": {
   "display_name": "syh",
   "language": "python",
   "name": "python3"
  },
  "language_info": {
   "codemirror_mode": {
    "name": "ipython",
    "version": 3
   },
   "file_extension": ".py",
   "mimetype": "text/x-python",
   "name": "python",
   "nbconvert_exporter": "python",
   "pygments_lexer": "ipython3",
   "version": "3.8.20"
  }
 },
 "nbformat": 4,
 "nbformat_minor": 2
}
